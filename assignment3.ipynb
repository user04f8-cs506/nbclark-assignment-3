{
 "cells": [
  {
   "cell_type": "markdown",
   "id": "245217cc",
   "metadata": {},
   "source": [
    "# Assignment: SVD Preprocessing on MNIST with Logistic Regression"
   ]
  },
  {
   "cell_type": "markdown",
   "id": "deffa444",
   "metadata": {},
   "source": [
    "## Instructions:\n",
    "In this assignment, you will apply **Singular Value Decomposition (SVD)** as a preprocessing step to the **MNIST dataset** and train a **logistic regression classifier**. You will compare the model performance and training time when using different levels of SVD for dimensionality reduction.\n",
    "\n",
    "In this assignment, you will need to:\n",
    "1. Load the MNIST dataset and normalize it.\n",
    "2. Perform SVD and reduce the dimensions of the data.\n",
    "3. Train a logistic regression model on the original and SVD-reduced data.\n",
    "4. Measure and compare the training time and accuracy of the model with varying SVD components.\n",
    "5. Plot the results and analyze how SVD impacts the performance and efficiency of the model.\n",
    "\n",
    "***\n",
    "Your tasks include:\n",
    "1. Implement SVD algorithm. You are not allowed to directly use SVD implemented by other packages, but you may use functions in NumPy. (Part 2)\n",
    "2. Explore the accuracy and time performance from different numbers of SVD components. (Part 4)\n",
    "3. Visualize the accuracy, time performance and top 5 singular vectors in the dataset, analyze and explain which number of SVD component looks best to you? (Part 4,5&6) Hint: singular vectors should be reshaped to 28x28 images for visualization.\n",
    "***\n",
    "**Note that you may not import any other function or package.** Let's get started!\n"
   ]
  },
  {
   "cell_type": "markdown",
   "id": "b3e10cb3",
   "metadata": {},
   "source": [
    "## Part 1: Load the MNIST dataset and preprocess the data"
   ]
  },
  {
   "cell_type": "code",
   "execution_count": 2,
   "id": "79f2d907",
   "metadata": {},
   "outputs": [
    {
     "name": "stdout",
     "output_type": "stream",
     "text": [
      "Loading MNIST dataset...\n"
     ]
    }
   ],
   "source": [
    "import numpy as np\n",
    "import matplotlib.pyplot as plt\n",
    "import time\n",
    "from sklearn.linear_model import LogisticRegression\n",
    "from sklearn.model_selection import train_test_split\n",
    "from sklearn.datasets import fetch_openml\n",
    "from sklearn.metrics import accuracy_score, classification_report\n",
    "\n",
    "# Load MNIST dataset\n",
    "print(\"Loading MNIST dataset...\")\n",
    "mnist = fetch_openml('mnist_784', version=1)\n",
    "X = mnist.data\n",
    "y = mnist.target\n",
    "\n",
    "# Normalize the data\n",
    "X = X / 255.0\n",
    "\n",
    "# Split into training and test sets\n",
    "X_train, X_test, y_train, y_test = train_test_split(X, y, test_size=0.2, random_state=42)\n"
   ]
  },
  {
   "cell_type": "markdown",
   "id": "28b8572d",
   "metadata": {},
   "source": [
    "## Part 2: Implement SVD for Dimensionality Reduction"
   ]
  },
  {
   "cell_type": "code",
   "execution_count": 3,
   "id": "647564f5",
   "metadata": {},
   "outputs": [
    {
     "name": "stdout",
     "output_type": "stream",
     "text": [
      "(56000, 784)\n",
      "(14000, 784)\n"
     ]
    }
   ],
   "source": [
    "print(X_train.shape)\n",
    "print(X_test.shape)"
   ]
  },
  {
   "cell_type": "code",
   "execution_count": 4,
   "id": "b3bd59f3",
   "metadata": {},
   "outputs": [],
   "source": [
    "def apply_svd_custom_optimized(X_train, X_test, n_components):\n",
    "    # Center the data by subtracting the mean\n",
    "    X_mean = np.mean(X_train, axis=0)\n",
    "    X_train_centered = X_train - X_mean\n",
    "    X_test_centered = X_test - X_mean\n",
    "    \n",
    "    # Compute the covariance matrix (X_train_centered.T @ X_train_centered) / n_samples\n",
    "    covariance_matrix = np.dot(X_train_centered.T, X_train_centered) / X_train_centered.shape[0]\n",
    "    \n",
    "    eigenvalues, eigenvectors = np.linalg.eig(covariance_matrix)\n",
    "    # Take only the real parts of eigenvalues and eigenvectors, otherwise get ComplexWarning on step 4\n",
    "    eigenvalues = np.real(eigenvalues)\n",
    "    eigenvectors = np.real(eigenvectors)\n",
    "    \n",
    "    # Use partial sorting to find the indices of the top n_components eigenvalues\n",
    "    top_indices = np.argpartition(eigenvalues, -n_components)[-n_components:]\n",
    "    top_indices = top_indices[np.argsort(eigenvalues[top_indices])[::-1]]\n",
    "    \n",
    "    # Get the top eigenvectors and corresponding eigenvalues\n",
    "    top_eigenvectors = eigenvectors[:, top_indices]\n",
    "    top_eigenvalues = eigenvalues[top_indices]\n",
    "    \n",
    "    # Project the train and test data onto the new lower-dimensional subspace\n",
    "    X_train_reduced = np.dot(X_train_centered, top_eigenvectors)\n",
    "    X_test_reduced = np.dot(X_test_centered, top_eigenvectors)\n",
    "    \n",
    "    return X_train_reduced, X_test_reduced, top_eigenvalues, top_eigenvectors"
   ]
  },
  {
   "cell_type": "markdown",
   "id": "eb2a7a9d",
   "metadata": {},
   "source": [
    "## Part 3: Train Logistic Regression and Measure Performance"
   ]
  },
  {
   "cell_type": "code",
   "execution_count": 7,
   "id": "dbfc0b10",
   "metadata": {},
   "outputs": [],
   "source": [
    "# Function to train logistic regression and track training time\n",
    "def train_logistic_regression(X_train, y_train, X_test, y_test):\n",
    "    model = LogisticRegression(max_iter=1000, solver='saga', random_state=42)  # multi_class='multinomial'\n",
    "    \n",
    "    # Measure training time\n",
    "    start_time = time.time()\n",
    "    model.fit(X_train, y_train)\n",
    "    training_time = time.time() - start_time\n",
    "    \n",
    "    y_pred = model.predict(X_test)\n",
    "    accuracy = accuracy_score(y_test, y_pred)\n",
    "    \n",
    "    return accuracy, training_time\n",
    "\n",
    "\n",
    "# accuracy, training_time = train_logistic_regression(X_train, y_train, X_test, y_test)\n",
    "# print(f\"Accuracy: {accuracy:.4f}\")\n",
    "# print(f\"Training Time: {training_time:.2f} seconds\")"
   ]
  },
  {
   "cell_type": "markdown",
   "id": "2e557a05",
   "metadata": {},
   "source": [
    "## Part 4: Experiment with Different Levels of SVD\n",
    "\n",
    "Now, apply SVD with varying numbers of components and observe how the dimensionality reduction impacts the model's performance. Record both the accuracy and training time for each number of components.\n"
   ]
  },
  {
   "cell_type": "code",
   "execution_count": 41,
   "id": "3a460725",
   "metadata": {},
   "outputs": [
    {
     "name": "stdout",
     "output_type": "stream",
     "text": [
      "Training models with different levels of SVD preprocessing...\n",
      "Applying custom SVD with 1 components...\n",
      "Training logistic regresion...\n",
      "SVD components: 1, Accuracy: 0.3069, Training time: 0.2951 seconds\n",
      "Applying custom SVD with 2 components...\n",
      "Training logistic regresion...\n",
      "SVD components: 2, Accuracy: 0.4484, Training time: 0.4362 seconds\n",
      "Applying custom SVD with 3 components...\n",
      "Training logistic regresion...\n",
      "SVD components: 3, Accuracy: 0.4718, Training time: 0.3563 seconds\n",
      "Applying custom SVD with 4 components...\n",
      "Training logistic regresion...\n",
      "SVD components: 4, Accuracy: 0.5765, Training time: 0.4110 seconds\n",
      "Applying custom SVD with 5 components...\n",
      "Training logistic regresion...\n",
      "SVD components: 5, Accuracy: 0.6796, Training time: 0.4444 seconds\n",
      "Applying custom SVD with 6 components...\n",
      "Training logistic regresion...\n",
      "SVD components: 6, Accuracy: 0.7363, Training time: 0.4625 seconds\n",
      "Applying custom SVD with 7 components...\n",
      "Training logistic regresion...\n",
      "SVD components: 7, Accuracy: 0.7619, Training time: 0.4541 seconds\n",
      "Applying custom SVD with 8 components...\n",
      "Training logistic regresion...\n",
      "SVD components: 8, Accuracy: 0.7871, Training time: 0.5097 seconds\n",
      "Applying custom SVD with 9 components...\n",
      "Training logistic regresion...\n",
      "SVD components: 9, Accuracy: 0.7893, Training time: 0.6632 seconds\n",
      "Applying custom SVD with 10 components...\n",
      "Training logistic regresion...\n",
      "SVD components: 10, Accuracy: 0.8035, Training time: 0.7382 seconds\n",
      "Applying custom SVD with 12 components...\n",
      "Training logistic regresion...\n",
      "SVD components: 12, Accuracy: 0.8267, Training time: 0.7891 seconds\n",
      "Applying custom SVD with 14 components...\n",
      "Training logistic regresion...\n",
      "SVD components: 14, Accuracy: 0.8398, Training time: 1.3784 seconds\n",
      "Applying custom SVD with 17 components...\n",
      "Training logistic regresion...\n",
      "SVD components: 17, Accuracy: 0.8617, Training time: 1.6096 seconds\n",
      "Applying custom SVD with 19 components...\n",
      "Training logistic regresion...\n",
      "SVD components: 19, Accuracy: 0.8738, Training time: 1.6904 seconds\n",
      "Applying custom SVD with 23 components...\n",
      "Training logistic regresion...\n",
      "SVD components: 23, Accuracy: 0.8857, Training time: 2.4764 seconds\n",
      "Applying custom SVD with 27 components...\n",
      "Training logistic regresion...\n",
      "SVD components: 27, Accuracy: 0.8890, Training time: 3.3313 seconds\n",
      "Applying custom SVD with 32 components...\n",
      "Training logistic regresion...\n",
      "SVD components: 32, Accuracy: 0.8972, Training time: 3.9381 seconds\n",
      "Applying custom SVD with 39 components...\n",
      "Training logistic regresion...\n",
      "SVD components: 39, Accuracy: 0.9013, Training time: 5.4879 seconds\n",
      "Applying custom SVD with 46 components...\n",
      "Training logistic regresion...\n",
      "SVD components: 46, Accuracy: 0.9062, Training time: 6.6538 seconds\n",
      "Applying custom SVD with 55 components...\n",
      "Training logistic regresion...\n",
      "SVD components: 55, Accuracy: 0.9114, Training time: 9.6164 seconds\n",
      "Applying custom SVD with 67 components...\n",
      "Training logistic regresion...\n",
      "SVD components: 67, Accuracy: 0.9129, Training time: 11.0167 seconds\n",
      "Applying custom SVD with 81 components...\n",
      "Training logistic regresion...\n",
      "SVD components: 81, Accuracy: 0.9158, Training time: 18.1972 seconds\n",
      "Applying custom SVD with 98 components...\n",
      "Training logistic regresion...\n",
      "SVD components: 98, Accuracy: 0.9176, Training time: 25.9773 seconds\n",
      "Applying custom SVD with 119 components...\n",
      "Training logistic regresion...\n",
      "SVD components: 119, Accuracy: 0.9187, Training time: 36.9793 seconds\n",
      "Applying custom SVD with 145 components...\n",
      "Training logistic regresion...\n",
      "SVD components: 145, Accuracy: 0.9199, Training time: 41.0914 seconds\n",
      "Applying custom SVD with 177 components...\n",
      "Training logistic regresion...\n",
      "SVD components: 177, Accuracy: 0.9209, Training time: 53.8827 seconds\n",
      "Applying custom SVD with 217 components...\n",
      "Training logistic regresion...\n",
      "SVD components: 217, Accuracy: 0.9212, Training time: 67.8539 seconds\n"
     ]
    }
   ],
   "source": [
    "svd_components = sorted(list({int((1.07 + x/500)**x) for x in range(40)}))\n",
    "\n",
    "# Store the results\n",
    "results = []\n",
    "\n",
    "print(\"Training models with different levels of SVD preprocessing...\")\n",
    "for n_components in svd_components:\n",
    "    print(f\"Applying custom SVD with {n_components} components...\")\n",
    "    \n",
    "    # Apply SVD to the training and test sets using the optimized SVD function\n",
    "    X_train_svd, X_test_svd, singular_values, top_eigenvectors = apply_svd_custom_optimized(X_train, X_test, n_components)\n",
    "\n",
    "    print('Training logistic regresion...')\n",
    "    \n",
    "    # Train the logistic regression model and get accuracy and training time\n",
    "    accuracy, training_time = train_logistic_regression(X_train_svd, y_train, X_test_svd, y_test)\n",
    "    \n",
    "    # Store the result in the list\n",
    "    results.append({\n",
    "        \"n_components\": n_components,\n",
    "        \"accuracy\": accuracy,\n",
    "        \"training_time\": training_time\n",
    "    })\n",
    "    \n",
    "    print(f\"SVD components: {n_components}, Accuracy: {accuracy:.4f}, Training time: {training_time:.4f} seconds\")\n"
   ]
  },
  {
   "cell_type": "markdown",
   "id": "ea7aca12",
   "metadata": {},
   "source": [
    "## Part 5: Visualize and Analyze the Results\n",
    "\n",
    "Finally, plot the accuracy, training time as a function of the number of SVD components, and top 5 singular vectors. This will help you understand the trade-off between dimensionality reduction, accuracy, and model training time, and how SVD generally works. Hint: singular vectors should be reshaped to 28x28 images for visualization.\n"
   ]
  },
  {
   "cell_type": "code",
   "execution_count": 42,
   "id": "a32f9421",
   "metadata": {},
   "outputs": [],
   "source": [
    "import pandas as pd\n",
    "\n",
    "# Convert results to a DataFrame for better visualization\n",
    "results_df = pd.DataFrame(results)"
   ]
  },
  {
   "cell_type": "code",
   "execution_count": 48,
   "id": "92ef0497",
   "metadata": {},
   "outputs": [
    {
     "data": {
      "application/vnd.plotly.v1+json": {
       "config": {
        "plotlyServerURL": "https://plot.ly"
       },
       "data": [
        {
         "line": {
          "color": "blue"
         },
         "mode": "lines+markers",
         "name": "Accuracy",
         "type": "scatter",
         "x": [
          1,
          2,
          3,
          4,
          5,
          6,
          7,
          8,
          9,
          10,
          12,
          14,
          17,
          19,
          23,
          27,
          32,
          39,
          46,
          55,
          67,
          81,
          98,
          119,
          145,
          177,
          217
         ],
         "y": [
          0.3068571428571429,
          0.44835714285714284,
          0.4717857142857143,
          0.5765,
          0.6796428571428571,
          0.7362857142857143,
          0.7618571428571429,
          0.7870714285714285,
          0.7892857142857143,
          0.8035,
          0.8267142857142857,
          0.8397857142857142,
          0.8617142857142858,
          0.8737857142857143,
          0.8857142857142857,
          0.889,
          0.8972142857142857,
          0.9012857142857142,
          0.9062142857142857,
          0.9113571428571429,
          0.9129285714285714,
          0.9157857142857143,
          0.9175714285714286,
          0.9187142857142857,
          0.9199285714285714,
          0.9209285714285714,
          0.9212142857142858
         ],
         "yaxis": "y"
        },
        {
         "line": {
          "color": "red",
          "dash": "dot"
         },
         "mode": "lines+markers",
         "name": "Training Time (seconds)",
         "type": "scatter",
         "x": [
          1,
          2,
          3,
          4,
          5,
          6,
          7,
          8,
          9,
          10,
          12,
          14,
          17,
          19,
          23,
          27,
          32,
          39,
          46,
          55,
          67,
          81,
          98,
          119,
          145,
          177,
          217
         ],
         "y": [
          0.295076847076416,
          0.43616533279418945,
          0.3563206195831299,
          0.41101646423339844,
          0.4443964958190918,
          0.4625232219696045,
          0.45406031608581543,
          0.5097436904907227,
          0.6631660461425781,
          0.7381820678710938,
          0.7890839576721191,
          1.3784112930297852,
          1.6096382141113281,
          1.6903724670410156,
          2.476372718811035,
          3.331303358078003,
          3.93813157081604,
          5.487882852554321,
          6.653815507888794,
          9.616442203521729,
          11.016707420349121,
          18.197223663330078,
          25.977342128753662,
          36.97931170463562,
          41.091434955596924,
          53.88270902633667,
          67.85390281677246
         ],
         "yaxis": "y2"
        }
       ],
       "layout": {
        "legend": {
         "orientation": "h",
         "x": 1,
         "xanchor": "right",
         "y": 1.02,
         "yanchor": "bottom"
        },
        "template": {
         "data": {
          "bar": [
           {
            "error_x": {
             "color": "#2a3f5f"
            },
            "error_y": {
             "color": "#2a3f5f"
            },
            "marker": {
             "line": {
              "color": "#E5ECF6",
              "width": 0.5
             },
             "pattern": {
              "fillmode": "overlay",
              "size": 10,
              "solidity": 0.2
             }
            },
            "type": "bar"
           }
          ],
          "barpolar": [
           {
            "marker": {
             "line": {
              "color": "#E5ECF6",
              "width": 0.5
             },
             "pattern": {
              "fillmode": "overlay",
              "size": 10,
              "solidity": 0.2
             }
            },
            "type": "barpolar"
           }
          ],
          "carpet": [
           {
            "aaxis": {
             "endlinecolor": "#2a3f5f",
             "gridcolor": "white",
             "linecolor": "white",
             "minorgridcolor": "white",
             "startlinecolor": "#2a3f5f"
            },
            "baxis": {
             "endlinecolor": "#2a3f5f",
             "gridcolor": "white",
             "linecolor": "white",
             "minorgridcolor": "white",
             "startlinecolor": "#2a3f5f"
            },
            "type": "carpet"
           }
          ],
          "choropleth": [
           {
            "colorbar": {
             "outlinewidth": 0,
             "ticks": ""
            },
            "type": "choropleth"
           }
          ],
          "contour": [
           {
            "colorbar": {
             "outlinewidth": 0,
             "ticks": ""
            },
            "colorscale": [
             [
              0,
              "#0d0887"
             ],
             [
              0.1111111111111111,
              "#46039f"
             ],
             [
              0.2222222222222222,
              "#7201a8"
             ],
             [
              0.3333333333333333,
              "#9c179e"
             ],
             [
              0.4444444444444444,
              "#bd3786"
             ],
             [
              0.5555555555555556,
              "#d8576b"
             ],
             [
              0.6666666666666666,
              "#ed7953"
             ],
             [
              0.7777777777777778,
              "#fb9f3a"
             ],
             [
              0.8888888888888888,
              "#fdca26"
             ],
             [
              1,
              "#f0f921"
             ]
            ],
            "type": "contour"
           }
          ],
          "contourcarpet": [
           {
            "colorbar": {
             "outlinewidth": 0,
             "ticks": ""
            },
            "type": "contourcarpet"
           }
          ],
          "heatmap": [
           {
            "colorbar": {
             "outlinewidth": 0,
             "ticks": ""
            },
            "colorscale": [
             [
              0,
              "#0d0887"
             ],
             [
              0.1111111111111111,
              "#46039f"
             ],
             [
              0.2222222222222222,
              "#7201a8"
             ],
             [
              0.3333333333333333,
              "#9c179e"
             ],
             [
              0.4444444444444444,
              "#bd3786"
             ],
             [
              0.5555555555555556,
              "#d8576b"
             ],
             [
              0.6666666666666666,
              "#ed7953"
             ],
             [
              0.7777777777777778,
              "#fb9f3a"
             ],
             [
              0.8888888888888888,
              "#fdca26"
             ],
             [
              1,
              "#f0f921"
             ]
            ],
            "type": "heatmap"
           }
          ],
          "heatmapgl": [
           {
            "colorbar": {
             "outlinewidth": 0,
             "ticks": ""
            },
            "colorscale": [
             [
              0,
              "#0d0887"
             ],
             [
              0.1111111111111111,
              "#46039f"
             ],
             [
              0.2222222222222222,
              "#7201a8"
             ],
             [
              0.3333333333333333,
              "#9c179e"
             ],
             [
              0.4444444444444444,
              "#bd3786"
             ],
             [
              0.5555555555555556,
              "#d8576b"
             ],
             [
              0.6666666666666666,
              "#ed7953"
             ],
             [
              0.7777777777777778,
              "#fb9f3a"
             ],
             [
              0.8888888888888888,
              "#fdca26"
             ],
             [
              1,
              "#f0f921"
             ]
            ],
            "type": "heatmapgl"
           }
          ],
          "histogram": [
           {
            "marker": {
             "pattern": {
              "fillmode": "overlay",
              "size": 10,
              "solidity": 0.2
             }
            },
            "type": "histogram"
           }
          ],
          "histogram2d": [
           {
            "colorbar": {
             "outlinewidth": 0,
             "ticks": ""
            },
            "colorscale": [
             [
              0,
              "#0d0887"
             ],
             [
              0.1111111111111111,
              "#46039f"
             ],
             [
              0.2222222222222222,
              "#7201a8"
             ],
             [
              0.3333333333333333,
              "#9c179e"
             ],
             [
              0.4444444444444444,
              "#bd3786"
             ],
             [
              0.5555555555555556,
              "#d8576b"
             ],
             [
              0.6666666666666666,
              "#ed7953"
             ],
             [
              0.7777777777777778,
              "#fb9f3a"
             ],
             [
              0.8888888888888888,
              "#fdca26"
             ],
             [
              1,
              "#f0f921"
             ]
            ],
            "type": "histogram2d"
           }
          ],
          "histogram2dcontour": [
           {
            "colorbar": {
             "outlinewidth": 0,
             "ticks": ""
            },
            "colorscale": [
             [
              0,
              "#0d0887"
             ],
             [
              0.1111111111111111,
              "#46039f"
             ],
             [
              0.2222222222222222,
              "#7201a8"
             ],
             [
              0.3333333333333333,
              "#9c179e"
             ],
             [
              0.4444444444444444,
              "#bd3786"
             ],
             [
              0.5555555555555556,
              "#d8576b"
             ],
             [
              0.6666666666666666,
              "#ed7953"
             ],
             [
              0.7777777777777778,
              "#fb9f3a"
             ],
             [
              0.8888888888888888,
              "#fdca26"
             ],
             [
              1,
              "#f0f921"
             ]
            ],
            "type": "histogram2dcontour"
           }
          ],
          "mesh3d": [
           {
            "colorbar": {
             "outlinewidth": 0,
             "ticks": ""
            },
            "type": "mesh3d"
           }
          ],
          "parcoords": [
           {
            "line": {
             "colorbar": {
              "outlinewidth": 0,
              "ticks": ""
             }
            },
            "type": "parcoords"
           }
          ],
          "pie": [
           {
            "automargin": true,
            "type": "pie"
           }
          ],
          "scatter": [
           {
            "fillpattern": {
             "fillmode": "overlay",
             "size": 10,
             "solidity": 0.2
            },
            "type": "scatter"
           }
          ],
          "scatter3d": [
           {
            "line": {
             "colorbar": {
              "outlinewidth": 0,
              "ticks": ""
             }
            },
            "marker": {
             "colorbar": {
              "outlinewidth": 0,
              "ticks": ""
             }
            },
            "type": "scatter3d"
           }
          ],
          "scattercarpet": [
           {
            "marker": {
             "colorbar": {
              "outlinewidth": 0,
              "ticks": ""
             }
            },
            "type": "scattercarpet"
           }
          ],
          "scattergeo": [
           {
            "marker": {
             "colorbar": {
              "outlinewidth": 0,
              "ticks": ""
             }
            },
            "type": "scattergeo"
           }
          ],
          "scattergl": [
           {
            "marker": {
             "colorbar": {
              "outlinewidth": 0,
              "ticks": ""
             }
            },
            "type": "scattergl"
           }
          ],
          "scattermapbox": [
           {
            "marker": {
             "colorbar": {
              "outlinewidth": 0,
              "ticks": ""
             }
            },
            "type": "scattermapbox"
           }
          ],
          "scatterpolar": [
           {
            "marker": {
             "colorbar": {
              "outlinewidth": 0,
              "ticks": ""
             }
            },
            "type": "scatterpolar"
           }
          ],
          "scatterpolargl": [
           {
            "marker": {
             "colorbar": {
              "outlinewidth": 0,
              "ticks": ""
             }
            },
            "type": "scatterpolargl"
           }
          ],
          "scatterternary": [
           {
            "marker": {
             "colorbar": {
              "outlinewidth": 0,
              "ticks": ""
             }
            },
            "type": "scatterternary"
           }
          ],
          "surface": [
           {
            "colorbar": {
             "outlinewidth": 0,
             "ticks": ""
            },
            "colorscale": [
             [
              0,
              "#0d0887"
             ],
             [
              0.1111111111111111,
              "#46039f"
             ],
             [
              0.2222222222222222,
              "#7201a8"
             ],
             [
              0.3333333333333333,
              "#9c179e"
             ],
             [
              0.4444444444444444,
              "#bd3786"
             ],
             [
              0.5555555555555556,
              "#d8576b"
             ],
             [
              0.6666666666666666,
              "#ed7953"
             ],
             [
              0.7777777777777778,
              "#fb9f3a"
             ],
             [
              0.8888888888888888,
              "#fdca26"
             ],
             [
              1,
              "#f0f921"
             ]
            ],
            "type": "surface"
           }
          ],
          "table": [
           {
            "cells": {
             "fill": {
              "color": "#EBF0F8"
             },
             "line": {
              "color": "white"
             }
            },
            "header": {
             "fill": {
              "color": "#C8D4E3"
             },
             "line": {
              "color": "white"
             }
            },
            "type": "table"
           }
          ]
         },
         "layout": {
          "annotationdefaults": {
           "arrowcolor": "#2a3f5f",
           "arrowhead": 0,
           "arrowwidth": 1
          },
          "autotypenumbers": "strict",
          "coloraxis": {
           "colorbar": {
            "outlinewidth": 0,
            "ticks": ""
           }
          },
          "colorscale": {
           "diverging": [
            [
             0,
             "#8e0152"
            ],
            [
             0.1,
             "#c51b7d"
            ],
            [
             0.2,
             "#de77ae"
            ],
            [
             0.3,
             "#f1b6da"
            ],
            [
             0.4,
             "#fde0ef"
            ],
            [
             0.5,
             "#f7f7f7"
            ],
            [
             0.6,
             "#e6f5d0"
            ],
            [
             0.7,
             "#b8e186"
            ],
            [
             0.8,
             "#7fbc41"
            ],
            [
             0.9,
             "#4d9221"
            ],
            [
             1,
             "#276419"
            ]
           ],
           "sequential": [
            [
             0,
             "#0d0887"
            ],
            [
             0.1111111111111111,
             "#46039f"
            ],
            [
             0.2222222222222222,
             "#7201a8"
            ],
            [
             0.3333333333333333,
             "#9c179e"
            ],
            [
             0.4444444444444444,
             "#bd3786"
            ],
            [
             0.5555555555555556,
             "#d8576b"
            ],
            [
             0.6666666666666666,
             "#ed7953"
            ],
            [
             0.7777777777777778,
             "#fb9f3a"
            ],
            [
             0.8888888888888888,
             "#fdca26"
            ],
            [
             1,
             "#f0f921"
            ]
           ],
           "sequentialminus": [
            [
             0,
             "#0d0887"
            ],
            [
             0.1111111111111111,
             "#46039f"
            ],
            [
             0.2222222222222222,
             "#7201a8"
            ],
            [
             0.3333333333333333,
             "#9c179e"
            ],
            [
             0.4444444444444444,
             "#bd3786"
            ],
            [
             0.5555555555555556,
             "#d8576b"
            ],
            [
             0.6666666666666666,
             "#ed7953"
            ],
            [
             0.7777777777777778,
             "#fb9f3a"
            ],
            [
             0.8888888888888888,
             "#fdca26"
            ],
            [
             1,
             "#f0f921"
            ]
           ]
          },
          "colorway": [
           "#636efa",
           "#EF553B",
           "#00cc96",
           "#ab63fa",
           "#FFA15A",
           "#19d3f3",
           "#FF6692",
           "#B6E880",
           "#FF97FF",
           "#FECB52"
          ],
          "font": {
           "color": "#2a3f5f"
          },
          "geo": {
           "bgcolor": "white",
           "lakecolor": "white",
           "landcolor": "#E5ECF6",
           "showlakes": true,
           "showland": true,
           "subunitcolor": "white"
          },
          "hoverlabel": {
           "align": "left"
          },
          "hovermode": "closest",
          "mapbox": {
           "style": "light"
          },
          "paper_bgcolor": "white",
          "plot_bgcolor": "#E5ECF6",
          "polar": {
           "angularaxis": {
            "gridcolor": "white",
            "linecolor": "white",
            "ticks": ""
           },
           "bgcolor": "#E5ECF6",
           "radialaxis": {
            "gridcolor": "white",
            "linecolor": "white",
            "ticks": ""
           }
          },
          "scene": {
           "xaxis": {
            "backgroundcolor": "#E5ECF6",
            "gridcolor": "white",
            "gridwidth": 2,
            "linecolor": "white",
            "showbackground": true,
            "ticks": "",
            "zerolinecolor": "white"
           },
           "yaxis": {
            "backgroundcolor": "#E5ECF6",
            "gridcolor": "white",
            "gridwidth": 2,
            "linecolor": "white",
            "showbackground": true,
            "ticks": "",
            "zerolinecolor": "white"
           },
           "zaxis": {
            "backgroundcolor": "#E5ECF6",
            "gridcolor": "white",
            "gridwidth": 2,
            "linecolor": "white",
            "showbackground": true,
            "ticks": "",
            "zerolinecolor": "white"
           }
          },
          "shapedefaults": {
           "line": {
            "color": "#2a3f5f"
           }
          },
          "ternary": {
           "aaxis": {
            "gridcolor": "white",
            "linecolor": "white",
            "ticks": ""
           },
           "baxis": {
            "gridcolor": "white",
            "linecolor": "white",
            "ticks": ""
           },
           "bgcolor": "#E5ECF6",
           "caxis": {
            "gridcolor": "white",
            "linecolor": "white",
            "ticks": ""
           }
          },
          "title": {
           "x": 0.05
          },
          "xaxis": {
           "automargin": true,
           "gridcolor": "white",
           "linecolor": "white",
           "ticks": "",
           "title": {
            "standoff": 15
           },
           "zerolinecolor": "white",
           "zerolinewidth": 2
          },
          "yaxis": {
           "automargin": true,
           "gridcolor": "white",
           "linecolor": "white",
           "ticks": "",
           "title": {
            "standoff": 15
           },
           "zerolinecolor": "white",
           "zerolinewidth": 2
          }
         }
        },
        "title": {
         "text": "Accuracy and Training Time vs Number of SVD Components"
        },
        "xaxis": {
         "title": {
          "text": "Number of SVD Components"
         }
        },
        "yaxis": {
         "range": [
          0,
          1
         ],
         "tickfont": {
          "color": "blue"
         },
         "title": {
          "font": {
           "color": "blue"
          },
          "text": "Accuracy"
         }
        },
        "yaxis2": {
         "anchor": "x",
         "overlaying": "y",
         "range": [
          0,
          100
         ],
         "side": "right",
         "tickfont": {
          "color": "red"
         },
         "title": {
          "font": {
           "color": "red"
          },
          "text": "Training Time (seconds)"
         }
        }
       }
      }
     },
     "metadata": {},
     "output_type": "display_data"
    },
    {
     "data": {
      "application/vnd.plotly.v1+json": {
       "config": {
        "plotlyServerURL": "https://plot.ly"
       },
       "data": [
        {
         "coloraxis": "coloraxis",
         "hovertemplate": "x: %{x}<br>y: %{y}<br>color: %{z}<extra></extra>",
         "name": "0",
         "type": "heatmap",
         "xaxis": "x",
         "yaxis": "y",
         "z": [
          [
           0,
           0,
           0,
           0,
           0,
           0,
           0,
           0,
           0,
           0,
           0,
           0,
           -0.000001225242392995506,
           -0.000004822683620988776,
           -0.0000023812161200119688,
           -9.9217338333832e-8,
           0,
           0,
           0,
           0,
           0,
           0,
           0,
           0,
           0,
           0,
           0,
           0,
           0,
           0,
           0,
           0,
           0,
           0,
           0,
           0,
           0,
           0,
           0,
           0,
           0.000001948647508550849,
           0.000006594195076372798,
           0.000002589871865538432,
           1.0791132773076843e-7,
           0,
           0,
           0,
           0,
           0,
           0,
           0,
           0,
           0,
           0,
           0,
           0,
           0,
           0,
           0,
           0,
           0,
           0,
           0,
           0,
           0,
           0,
           0,
           0,
           -5.735310493318371e-7,
           0.000005275011158284249,
           0.0000072675824779051525,
           3.028159365794005e-7,
           0,
           0,
           0,
           0,
           0,
           0,
           0,
           0,
           0,
           0,
           0,
           0,
           0,
           0,
           0,
           0,
           0,
           0,
           0,
           0,
           0,
           0,
           0,
           0,
           -0.000009677814710644594,
           -0.000037041251190757396,
           -0.000017638211207722657,
           -7.349254669800375e-7,
           0,
           0,
           0,
           0,
           0,
           0,
           0,
           0,
           0,
           0,
           0,
           0,
           0,
           0,
           0,
           0,
           0,
           0,
           0,
           0,
           0,
           0,
           0,
           0,
           -0.000001403169291194426,
           -0.000005395029609407485,
           -0.000002584579050734778,
           -1.0769079376496755e-7,
           0,
           0,
           0,
           0,
           0,
           0,
           0,
           0,
           0,
           0,
           0,
           0
          ],
          [
           0,
           0,
           0,
           0,
           2.635972400324205e-7,
           4.941119776327231e-7,
           0.000003616043947411949,
           0.000016860264358072655,
           0.000027904633429968358,
           0.00004671858768058125,
           0.00006533986172375059,
           0.00007789276604804916,
           0.00006748790459088088,
           0.00008347673867738387,
           0.00010581966637388755,
           0.000056328274435096955,
           -9.568568141504444e-7,
           0.000023989986506200856,
           0.00002723072322006796,
           0.000010488836979131368,
           -9.19466091111037e-7,
           0.000003262350709575897,
           0.0000029864360942422643,
           6.524465160120523e-7,
           0,
           0,
           0,
           0,
           0,
           0,
           0,
           0,
           3.7392690616567966e-7,
           0.000002365615155322704,
           0.000027997627149154074,
           0.000057113676188517695,
           0.00006033203426613403,
           0.00009685723274086862,
           0.0001661449096547079,
           0.00023392338120772194,
           0.00028760723283123877,
           0.00027195867987989776,
           0.00025523564645099726,
           0.0001632869411601487,
           0.00011072164644945317,
           0.0001298355816494263,
           0.00007508073071727497,
           0.000027474200900914626,
           0.000013537079830827175,
           0.0000013090994058389965,
           0.000005220349445736328,
           0.000007346956002173255,
           0,
           0,
           0,
           0,
           0,
           0,
           0,
           0,
           4.3137266777812567e-7,
           0.0000031536126401792037,
           0.000011783628539123095,
           0.000007030960528731227,
           0.000013072459118855851,
           0.000032320116788385504,
           0.00006007868208321171,
           0.00007573173861782174,
           0.0001253627579737851,
           0.00015614109312915198,
           0.0002177634449358447,
           0.0002122862772083611,
           0.00023861870532766098,
           0.0002969367824736585,
           0.0002519898223960129,
           0.00019074854865926255,
           0.00016222674620958071,
           0.00006838856184370379,
           0.00001864632281679885,
           5.757996788760299e-7,
           0,
           0,
           0,
           0,
           0,
           0,
           0,
           0,
           -0.0000014562859365423441,
           -0.000008604484351290916,
           -0.00006466408784440702,
           -0.00012839581819012436,
           -0.00020694185888088057,
           -0.0003798630790961355,
           -0.0006632188685551713,
           -0.0008429164041891792,
           -0.0009090003062620075,
           -0.0009618141264631006,
           -0.0010651134715530333,
           -0.0007809770697208725,
           -0.000612020751580941,
           -0.0006022849898610633,
           -0.00036329569268743977,
           -0.00019540038272972292,
           -0.0001588178315595683,
           -0.00005582743979656606,
           -0.000025826856056689098,
           -0.00001767553391237222,
           0,
           0,
           0,
           0,
           0,
           0,
           0,
           0,
           -2.0056165851137668e-7,
           7.068481201701223e-8,
           0.000003623996237962856,
           0.000002941856360116312,
           7.628592218162105e-8,
           -5.73266249502529e-7,
           -0.00002121449242681931,
           -0.000041884127269490256,
           -0.0001009338955612067,
           -0.00013890086634178793,
           -0.00010897636993368515,
           -0.00008076412658824722,
           -0.00006668851660056007,
           -0.0000894781936669526,
           -0.00007576213509307916,
           -0.00003521157185280785,
           -0.00003688154753325748,
           -0.000016352940970921914,
           -0.000006895245588198979,
           -0.000004207652016788842,
           0,
           0,
           0,
           0
          ],
          [
           0,
           0,
           0,
           1.7556463348491248e-7,
           0.0000031261077961410152,
           7.444075340612604e-7,
           0.000026732398043673056,
           0.00007304411641658652,
           0.00019277577967965388,
           0.00036096707794804425,
           0.0005398690744117897,
           0.00090844445212477,
           0.0014243636375928066,
           0.002064086070441332,
           0.002560556775116558,
           0.0027081772924651844,
           0.00251263424256343,
           0.0020150299927031295,
           0.0013705864400505086,
           0.0009223613447775012,
           0.0005481986371347783,
           0.00022386021019040692,
           0.00008508003720548346,
           0.000019810936984504903,
           -0.000004032834643231805,
           -0.000002546579669181076,
           0,
           0,
           0,
           0,
           0,
           1.1321533728661923e-8,
           0.0000031984552504610917,
           -0.0000025362234292129718,
           0.000036102900141464094,
           0.000140828868155946,
           0.00022888321971357493,
           0.00035592347114729285,
           0.0006541573183912004,
           0.0010984924515328493,
           0.001647742859012921,
           0.0020274899826136145,
           0.0020868774502243387,
           0.001811096376301851,
           0.0013181036614652527,
           0.0006169623618632632,
           -0.00010508747195024962,
           -0.0004938307796851477,
           -0.00045304278690411394,
           -0.00030009299125349526,
           -0.000116421663085033,
           -0.00003728936679670736,
           -0.000013885007441704647,
           -0.0000019936272774053497,
           0,
           0,
           0,
           0,
           0,
           4.775732507263297e-7,
           0.000014857663027651327,
           0.000018266177664492755,
           0.000051250808246810895,
           0.00007106182758480139,
           0.00011940844407190791,
           0.000248315386293345,
           0.00038261221431224975,
           0.0005653380463544645,
           0.0010135809337707869,
           0.002057876441854091,
           0.0035923050840401143,
           0.0054082788876897575,
           0.007038772889192772,
           0.007669602580745427,
           0.007329913590769579,
           0.005907256130437595,
           0.0038554528958589618,
           0.002139046444689266,
           0.0009488954873456929,
           0.0002590408244061212,
           0.00007597999239891174,
           0.000014231577264297996,
           0,
           0,
           0,
           0,
           0,
           -5.085175084250441e-7,
           -0.000026114735113431693,
           -0.00004082756321656169,
           -0.0002514341142523778,
           -0.0006848382151967484,
           -0.0014084787039965244,
           -0.002702144585259447,
           -0.004601294191992655,
           -0.007007666776104786,
           -0.009734511577279576,
           -0.012256567596752086,
           -0.01408573305612915,
           -0.014525352720126557,
           -0.013422159372409847,
           -0.011027511369334398,
           -0.008029728842540947,
           -0.005203726768059753,
           -0.002853448070280944,
           -0.0013721402529733241,
           -0.0005984475995872746,
           -0.000176505607214851,
           -0.00003747442120606046,
           -0.000004693243640008515,
           0,
           0,
           0,
           0,
           0,
           4.496563983084278e-7,
           -0.000007625741327514486,
           -0.000011155038973460822,
           0.000005332290548568426,
           0.00004772081451497596,
           -0.000022176119262584616,
           -0.00009661151506929849,
           -0.00031343599255429736,
           -0.0008004596690479612,
           -0.0017713760779495013,
           -0.0031176809425003684,
           -0.004346464353974821,
           -0.005187333188383324,
           -0.004986232540939041,
           -0.004217829051395815,
           -0.0029238729870427515,
           -0.0017734730022976486,
           -0.0008955841781057317,
           -0.00049401005903265,
           -0.00019517234613492725,
           -0.00005276063111128136,
           -0.000022136042903758772,
           -0.000007072057107229419,
           0,
           0
          ],
          [
           0,
           0,
           -0.0000018635760137705458,
           0.0000027830390216383514,
           0.000016296034171229334,
           0.000055961531361795725,
           0.00009969621909522157,
           0.00022437735779717063,
           0.0005124422553910422,
           0.0010806549854321542,
           0.0018692932521663865,
           0.0030742648930993694,
           0.004712458721343664,
           0.006885867884080835,
           0.008838034774355364,
           0.009843417572922673,
           0.009440088091348674,
           0.0074005603809768365,
           0.0054631970437727185,
           0.003767804778930037,
           0.002362522184197433,
           0.001110784595121669,
           0.0005354460407134636,
           0.00015073194728804014,
           0.000015959903172942404,
           -0.0000049468309882233134,
           -0.000004621910329078277,
           0,
           0,
           0,
           -0.000002122450750048265,
           -6.120208358019458e-7,
           -0.000005385303043449731,
           -0.00003367076583141001,
           -0.0001617948092602727,
           -0.00032025576991153863,
           -0.0008562439911645395,
           -0.0017547057588940317,
           -0.0025906310980802526,
           -0.0037239278729007184,
           -0.004641776852596167,
           -0.0053351886648030575,
           -0.005831361296082434,
           -0.006798826976606899,
           -0.0072854119051089326,
           -0.007425955062123206,
           -0.006613947080892118,
           -0.005194924111413659,
           -0.003277856940381515,
           -0.0017433524326954262,
           -0.0008509896472093668,
           -0.00029028336908924095,
           -0.00012103508338353666,
           -0.000031000914545274066,
           -0.00000766933179384818,
           0,
           0,
           0,
           0.0000021143281469597384,
           0.00001098854920105711,
           0.00002050220573156596,
           0.000007084126384731842,
           0.000058317977624524145,
           0.00019148515795284948,
           0.0005309040075760915,
           0.0010409474123944309,
           0.001713575296155416,
           0.0027819616557703576,
           0.004814650759624119,
           0.008141892032029786,
           0.012655146696172459,
           0.018177453565915314,
           0.022662640713063998,
           0.024102651137010767,
           0.022270473934978927,
           0.017445223300417458,
           0.01153700514590247,
           0.0063646805862265345,
           0.003064421136727393,
           0.0011834640122504734,
           0.00047715053366064543,
           0.0000830123146266526,
           0.00001726115660857771,
           0,
           0,
           0,
           -0.0000011543239168493429,
           -0.000006513102073373868,
           -0.000025859054443855543,
           -0.0001883179327740202,
           -0.0007463298768411764,
           -0.0021602082068269543,
           -0.0048134705465001084,
           -0.009369607210447996,
           -0.015370437358386673,
           -0.022314271469882428,
           -0.02905533391742202,
           -0.03595458510245766,
           -0.04066829517565451,
           -0.04107771333763764,
           -0.03640640365297884,
           -0.028372687811138227,
           -0.020058710413226866,
           -0.012349388344523246,
           -0.006378957052078736,
           -0.002806584931976933,
           -0.0011053732221778549,
           -0.0003058492781550636,
           -0.00010755010129293839,
           -0.000018808921321352407,
           -0.000002631112071078544,
           0,
           0,
           0,
           -7.275643758721865e-7,
           0.000002869186807561523,
           0.00001324470073252979,
           0.000003093866555722574,
           -0.00009504473980390941,
           -0.00032260424186419896,
           -0.0008139419602403923,
           -0.001657655231412171,
           -0.0031969939490635703,
           -0.005548845692355427,
           -0.008793737936762545,
           -0.012914917160323216,
           -0.016508078857239004,
           -0.01863111155265492,
           -0.01754522931821626,
           -0.013628353656176593,
           -0.009285860066610694,
           -0.005556349139102816,
           -0.00279102109932939,
           -0.0010036231445314562,
           -0.0001589011112608564,
           0.00010377136166780114,
           0.00005502390434232343,
           0.00001477425716402322,
           -2.6595070109727895e-7,
           0
          ],
          [
           0,
           1.730600458456866e-7,
           -0.000005647369335364069,
           0.000006954973448685031,
           0.00004431534798987653,
           0.00016592386032091133,
           0.00047867323507497125,
           0.0011000149240828114,
           0.002521975945457989,
           0.0049595178284928265,
           0.008454105845107767,
           0.013105920219220947,
           0.018596343475116423,
           0.023985227390941107,
           0.027784355725399886,
           0.030925783109587063,
           0.03087310459316425,
           0.02639598494609405,
           0.020524761795288206,
           0.014335795944426287,
           0.008629004550188547,
           0.0046563870362686275,
           0.0021940541509287335,
           0.0008300597805034815,
           0.00017742792976323062,
           0.00000465314982070064,
           -0.000013181498479737008,
           -0.000003567916162871474,
           0,
           -0.0000017600515806332763,
           -0.000008938557513148414,
           -0.000005950165863662215,
           -0.00009160772140635613,
           -0.000494313436999055,
           -0.001583881673393768,
           -0.003937502606314471,
           -0.00783511900972168,
           -0.01373749442455371,
           -0.021292161431385608,
           -0.03017682578839363,
           -0.039278713590924094,
           -0.04926625105149789,
           -0.0582298981743191,
           -0.06373724185223092,
           -0.06311693384439891,
           -0.05601975043541467,
           -0.04374762892410133,
           -0.030261576889789574,
           -0.017258860720635236,
           -0.008354433372128368,
           -0.0034324450310941213,
           -0.0011871257949969906,
           -0.00043115545232246444,
           -0.00013998298514959922,
           -0.000007764496674699878,
           -0.000002365897195350131,
           0,
           -5.039915245058048e-7,
           0.000007838480260504307,
           0.000009415864048091128,
           -0.00009969089067873045,
           -0.0003839233248564096,
           -0.0009648369965363579,
           -0.0021015523690017493,
           -0.003886516552545294,
           -0.006640583200534029,
           -0.010283550886135202,
           -0.013035356790882776,
           -0.013300851178512603,
           -0.008441796584514813,
           0.003586799349641971,
           0.02105924767703707,
           0.03804388385501689,
           0.04818980329781778,
           0.048616542206154856,
           0.041132914837205575,
           0.028759170492515772,
           0.017063270092171248,
           0.008596528262481052,
           0.003692955315948756,
           0.0015986386416660405,
           0.0004100979974698946,
           0.0000722710114037618,
           0.000003430360902783032,
           0,
           6.547732468240011e-7,
           -0.000007413613895941019,
           -0.000016925825351591225,
           -0.00013454392636236476,
           -0.0006398029667496897,
           -0.0020944137646670426,
           -0.00542098356583486,
           -0.011239543151490426,
           -0.020120681503845897,
           -0.03078534932028781,
           -0.04245146841483377,
           -0.05355213151689839,
           -0.06122984347027328,
           -0.06213461546388774,
           -0.054679696577255486,
           -0.04216011046213655,
           -0.0276301850613075,
           -0.015268680175449549,
           -0.007186972912809755,
           -0.0018393205396266793,
           0.0008878835198836806,
           0.0018617486969191184,
           0.0013257030336495102,
           0.000493140980299993,
           0.0001902150231542053,
           0.00001915734195383663,
           -0.0000018159155146177907,
           0,
           -0.0000017525099126422317,
           -0.0000062171105095377305,
           5.298315785247232e-7,
           0.00001286212691392586,
           -0.00016490748624580753,
           -0.0006141147478906204,
           -0.001620549260637706,
           -0.0033545652128357376,
           -0.005851604713370338,
           -0.01048834942629678,
           -0.01610051076790329,
           -0.021231689820021788,
           -0.026033868917122217,
           -0.028881409885546296,
           -0.028978300930736806,
           -0.026066508616209842,
           -0.01885916524717087,
           -0.012082838479301361,
           -0.0061845988349997745,
           -0.0026755550710610507,
           -0.0006798311546986452,
           0.0004093034751775374,
           0.00048618276881152436,
           0.0003014207548437017,
           0.00008094430046884927,
           0.000011718145879274211,
           0.0000016625522698894174
          ],
          [
           0,
           -3.815431237071213e-9,
           0.000004103353818661832,
           0.000010992363346004313,
           0.00022496009855830934,
           0.0007116693179587277,
           0.0016376255464801035,
           0.003629043109481359,
           0.0073222086261410906,
           0.013847047031401601,
           0.023114040173128684,
           0.03463015000946598,
           0.045711165838358846,
           0.05269613050759024,
           0.05543713170706617,
           0.055873841506750885,
           0.05510553553745859,
           0.051726941272166226,
           0.04554078705324804,
           0.036380059339960205,
           0.02532519471161238,
           0.015179337569447716,
           0.007679005605271755,
           0.0030718366452829526,
           0.0008292662538962212,
           0.000013583975329213994,
           -0.00001677486514205332,
           -0.000004909731845437364,
           0,
           -0.0000011508394055891842,
           -0.000009780695561476168,
           -0.00007834258363133256,
           -0.0005105034134106021,
           -0.0019627167737763804,
           -0.0052242356099230156,
           -0.01120978277448092,
           -0.020266535898023588,
           -0.032000633848694296,
           -0.04610587026358502,
           -0.06080711144059103,
           -0.07626597594519528,
           -0.0935927046895768,
           -0.10951139216346507,
           -0.12070302710762532,
           -0.1212358699154284,
           -0.10894108251941413,
           -0.08456036589390126,
           -0.056408114841464414,
           -0.031188340353008284,
           -0.01370095569555893,
           -0.003980416803641057,
           -0.0004426049430306617,
           -0.00001878061615759753,
           -0.0000827544225201889,
           0.000007870925455926906,
           -0.000003527759106000707,
           0,
           2.052488261307593e-7,
           0.000025284557818925342,
           -0.00010104554931401183,
           -0.0008809796169829886,
           -0.0029755961816892813,
           -0.006831809507925354,
           -0.013202174949288785,
           -0.02265797980837516,
           -0.03609640268556364,
           -0.05048512605796424,
           -0.062098669892990545,
           -0.0654460388908874,
           -0.057183944082200316,
           -0.03621272720733278,
           -0.008371228504444961,
           0.019481116023922572,
           0.041085210297782844,
           0.053416270964603906,
           0.05418269938707864,
           0.04512369021575339,
           0.0312258179438522,
           0.01822698027023343,
           0.009091510425458521,
           0.003881034758988442,
           0.0010778704043205437,
           0.0001712475556509122,
           0.000005361142310119152,
           0,
           0.0000010658493459341577,
           -0.000015043298805869997,
           -0.000019323251536882416,
           -0.00035013724975232097,
           -0.0016237425292701271,
           -0.0046713693645461804,
           -0.010041857285505445,
           -0.018907762448687044,
           -0.03072616362725879,
           -0.04196568277968534,
           -0.0507812277387167,
           -0.0530944816365634,
           -0.04550500589589301,
           -0.031056277297895455,
           -0.012330995377996694,
           0.005533017023999621,
           0.019624048378459016,
           0.029202565697530943,
           0.03142965345268528,
           0.027752797821779546,
           0.021911729452246505,
           0.015137393278707835,
           0.009246977596251397,
           0.004414929766484314,
           0.0012193904662060524,
           0.0002496971678530658,
           3.114404827784418e-7,
           0,
           -5.740915537001755e-7,
           -0.000005880489409304594,
           -0.000014373893436901814,
           -0.00022945927807601631,
           -0.000977110735788932,
           -0.002575934566643312,
           -0.005508522306220657,
           -0.010689616720779872,
           -0.018111139039864162,
           -0.028163779386253997,
           -0.03934925178872917,
           -0.04985727156640205,
           -0.055269967347637804,
           -0.05365237205569434,
           -0.0493200331302646,
           -0.044154972414900004,
           -0.0370907028240877,
           -0.027073563880760557,
           -0.014754944337270287,
           -0.0053175132829485095,
           -0.0002965066845046039,
           0.0015520371513762878,
           0.001214841172531719,
           0.0008928623087324389,
           0.0003066252305844046,
           0.00003160412248304436,
           0.0000033116395508046613
          ],
          [
           0,
           -1.2277482745439317e-7,
           -0.000006026368151390114,
           0.000019636066404879655,
           0.0004882437803630122,
           0.0012577908568634504,
           0.0027587347049541876,
           0.006558042148132898,
           0.013552021196841686,
           0.02548015805276432,
           0.041657895468683676,
           0.0588641246755335,
           0.069739287987715,
           0.07004643278384402,
           0.06307431760125856,
           0.05536639079465877,
           0.05276562659335664,
           0.055666084417656476,
           0.058922369913691444,
           0.0564355616925578,
           0.04608257291584909,
           0.030628659084792877,
           0.015859629012639726,
           0.005967123572883256,
           0.0013542235811041634,
           0.00004049255959529256,
           -0.000037517741346509124,
           -0.000012205794753958856,
           0,
           -3.3905106021410874e-7,
           0.000012139986247130657,
           -0.0002211833119560061,
           -0.0010854931254192248,
           -0.0032409526784793526,
           -0.007909273348834147,
           -0.01608329699402658,
           -0.026824653806848148,
           -0.03756868054482891,
           -0.04745097265507819,
           -0.05615163260370153,
           -0.0637721457163481,
           -0.07433410526119362,
           -0.08817357805904052,
           -0.10184474714770982,
           -0.10803803953345453,
           -0.10156361919469237,
           -0.08177138460245825,
           -0.055051900249584125,
           -0.03034330881643534,
           -0.01175222250567264,
           -0.0018853841131090444,
           0.0014111923997418873,
           0.0012994913037092737,
           0.00035764682457394264,
           0.00011218845293176754,
           0.000009511320055164538,
           0,
           8.164038904638363e-10,
           -0.000039225336398810756,
           -0.0006377207048666217,
           -0.002978276876133546,
           -0.0079537293169866,
           -0.01679176625265204,
           -0.031006148391480595,
           -0.05090331658817912,
           -0.07419672930624435,
           -0.09408593017717655,
           -0.10141508319729571,
           -0.09370511332120764,
           -0.07205161269873825,
           -0.04481206454548728,
           -0.018830485036963596,
           0.0029600246684097268,
           0.023319915669547026,
           0.04350472069925112,
           0.057697927524639626,
           0.05878538398785527,
           0.04732834031983857,
           0.031155362491225677,
           0.01635835896839099,
           0.007326055071209438,
           0.0024394144004630065,
           0.0004220402983390169,
           0.00003121319888742386,
           0,
           5.038818311159078e-7,
           -0.000022841782646041722,
           -0.0001484110324276013,
           -0.0006140311296815983,
           -0.002639302845820183,
           -0.007168104267011914,
           -0.01494117993166889,
           -0.025409500787361986,
           -0.03697073580044007,
           -0.04272799127945033,
           -0.03839687285766307,
           -0.02166127348144609,
           0.00385694945213092,
           0.03078594743033263,
           0.05258674968076742,
           0.06673414390300499,
           0.07422216507853158,
           0.07666556050536681,
           0.07281970280077635,
           0.06098486585548598,
           0.04568891800216597,
           0.030538788755462946,
           0.018295188872464556,
           0.009529155783795693,
           0.003450109231899613,
           0.0007017450340119036,
           0.000026637009040329736,
           0,
           -1.5025640438044845e-8,
           0.000028534190668908232,
           0.00000954681813982189,
           -0.00046393375166783293,
           -0.0019083786841260332,
           -0.005615103611028059,
           -0.011535106383082723,
           -0.020759114752118994,
           -0.03321472450008395,
           -0.049164914278653486,
           -0.06663691967382869,
           -0.07818949316410907,
           -0.07695819375630641,
           -0.06729733109421292,
           -0.05792023698029213,
           -0.05506988204896196,
           -0.05205283499062451,
           -0.04168790102425826,
           -0.024053402771184455,
           -0.005342244113518876,
           0.004566287305048492,
           0.006461384912032433,
           0.00458018854354153,
           0.002334328118434001,
           0.0009960485119111203,
           0.00016114229257293823,
           0.000011594453303445276
          ],
          [
           0,
           -0.000006394585354819686,
           -0.000029356274489725588,
           0.000012090466979745367,
           0.0004508988830737246,
           0.0013539239104162096,
           0.0036327223301447975,
           0.009375488254237004,
           0.020294412430429308,
           0.0373122224403858,
           0.056741328337746255,
           0.07162552225997007,
           0.07351502204353273,
           0.060526615649055295,
           0.041371959501286734,
           0.02539626643402582,
           0.021714936713764215,
           0.03177272198167286,
           0.04892273251856106,
           0.06074833008817739,
           0.059626986194842135,
           0.044939372176220196,
           0.02536359276604989,
           0.009111753585281353,
           0.0014148273040901235,
           -0.00022097527788632391,
           -0.00008779233300362682,
           -0.000009158781055798686,
           0,
           0.00002046054170353518,
           0.00017281057772060556,
           0.00035942886738575774,
           0.0003086400901980432,
           -0.000478987458451205,
           -0.00287872873621546,
           -0.006957873273936356,
           -0.010204843527520883,
           -0.010472406575974542,
           -0.0055986319364284935,
           0.0016728180754748906,
           0.006336610901180791,
           0.0025188371692935543,
           -0.01058641449409247,
           -0.027966493176581803,
           -0.04073830980457839,
           -0.041923997890858204,
           -0.03267404836314022,
           -0.018731921684444545,
           -0.006060202215432177,
           0.0007087708419584762,
           0.003803613273971986,
           0.004211736001162599,
           0.0024903770720284754,
           0.001017044806836795,
           0.0002573949055554572,
           0.000020085247787486257,
           0,
           -0.000021131126712905513,
           -0.00026443979344174746,
           -0.0017128964881821598,
           -0.005998174020002215,
           -0.013927055601903824,
           -0.02777337356590258,
           -0.04865380733367088,
           -0.07528451527757563,
           -0.10145948425140086,
           -0.1125524650261867,
           -0.0997897634968542,
           -0.06713576261343887,
           -0.030393131152374953,
           -0.005973805467575622,
           0.0013336787279197165,
           0.0006352526609156318,
           0.008004066624357932,
           0.029755417246613063,
           0.056056757903191395,
           0.0699103067177814,
           0.06391876060491879,
           0.04470582799094073,
           0.025047585189556864,
           0.01113635257744555,
           0.0039519165130674425,
           0.0006407241704483331,
           0.000045925601202770915,
           0,
           0.000011218365857066303,
           -0.00006123956831531363,
           -0.00006315518933825531,
           -0.0005448573523302332,
           -0.0029147277282334178,
           -0.008062726042723968,
           -0.016673636996556294,
           -0.027542055014392608,
           -0.033369336070366705,
           -0.025573778557167682,
           -0.0003731338043455778,
           0.03495648475309583,
           0.06889778331460317,
           0.09034875950971044,
           0.09971601469496076,
           0.10142053368321798,
           0.10085434609097033,
           0.10133086672475033,
           0.09826890523939484,
           0.08363940311208608,
           0.06170983024020305,
           0.03967788223349008,
           0.023532949397123575,
           0.01176879225297987,
           0.004311266279698599,
           0.0007835704045139365,
           0.00004086753988790631,
           0,
           0.000009390193180608898,
           0.0001757056111810115,
           0.0002761391189155634,
           -0.00015573802703935087,
           -0.0020769324993404966,
           -0.006588457350128535,
           -0.012967126629886982,
           -0.02252874225588485,
           -0.03675077541413262,
           -0.05422762971488597,
           -0.07075305854167836,
           -0.0740945521801139,
           -0.05883659313701293,
           -0.03569371105945724,
           -0.022666688669029045,
           -0.028115742064317717,
           -0.0386638982689362,
           -0.03922718740403884,
           -0.02157332800217825,
           0.003183502478630206,
           0.01823152339044333,
           0.018715603952529074,
           0.011507052588402443,
           0.005067525333757202,
           0.0020369096437710624,
           0.0002849727561824768,
           0.000014409638408277328
          ],
          [
           -7.464111402390989e-7,
           -0.000005342883993926832,
           -0.0000234141333357742,
           0.00004047512135332824,
           0.0004365025447874374,
           0.0013811078487064579,
           0.004842437527923398,
           0.013537146122521538,
           0.02885282538039458,
           0.04873911554568583,
           0.06586842641465493,
           0.07157067035445781,
           0.06117482025976685,
           0.03760562977199826,
           0.009563594275639744,
           -0.010795314666220655,
           -0.014133663725982328,
           0.0007642444015680643,
           0.028840967996374586,
           0.05585575652754894,
           0.06668187378013227,
           0.05601349712687396,
           0.034467138771312945,
           0.012992879267152724,
           0.0016211944305667815,
           -0.0006611218790920243,
           -0.00016758427996192907,
           -0.000021024049656166773,
           0.0000019964182405107543,
           0.00011341690712495947,
           0.000761977115816582,
           0.0021349214671671046,
           0.003958296829500437,
           0.006671827674124996,
           0.009252959838727575,
           0.013669615000810782,
           0.02284157630247372,
           0.03897013853013648,
           0.058560342104581074,
           0.07257239746127833,
           0.07390488006492275,
           0.06108465705097704,
           0.03877004154988489,
           0.015052686977951367,
           0.001985817979587951,
           0.003932986187319394,
           0.014422321716492725,
           0.022132578014323376,
           0.02118350600602904,
           0.014938735059249617,
           0.008399987587206665,
           0.004626602356316145,
           0.002205616734078927,
           0.0009201462272165916,
           0.00028486421354005593,
           0.000015451075114694553,
           0.0000028127412712677718,
           -0.00009997911873731807,
           -0.0007554511838736226,
           -0.0031928903591787357,
           -0.008681806284238267,
           -0.0180512694353826,
           -0.03420259915561421,
           -0.05807965384112706,
           -0.0873207147785162,
           -0.10580818824902531,
           -0.09577719326179729,
           -0.052590977158488005,
           0.0021264070856846277,
           0.03812890627430226,
           0.042979323954081175,
           0.02262261037033596,
           -0.002643277716188102,
           -0.010571945674767944,
           0.010749238821023709,
           0.04671918995838534,
           0.07114653542730287,
           0.0707055999550653,
           0.05196209220469883,
           0.029122737158814797,
           0.013094289332118933,
           0.004415012301653963,
           0.0007301742615506008,
           0.0000409287265183537,
           -0.0000010305438004126164,
           -0.000006822623903260571,
           -0.00006175807094479019,
           0.00019927879538737727,
           -0.0002500834434381637,
           -0.0023967614975156496,
           -0.008108720444495432,
           -0.017363941953949816,
           -0.025577751922008177,
           -0.020453971171795492,
           0.005813260750954289,
           0.04773106890686125,
           0.08634866397745082,
           0.10637489333154498,
           0.10695638803395441,
           0.09745533097279123,
           0.08768004440850669,
           0.08454973443711222,
           0.09015187349906342,
           0.09357141333104592,
           0.08200597770765378,
           0.06091869752402332,
           0.038519258521555265,
           0.021510491683993768,
           0.009833416572119147,
           0.0035328588953112096,
           0.0006238146591108984,
           0.000026918265295261323,
           7.423494314260793e-7,
           0.00006451252493834989,
           0.0006510898955764398,
           0.0014398187041816113,
           0.0019075619263946794,
           0.0007604281021118606,
           -0.0014713406222261558,
           -0.003960647876474146,
           -0.010168202613389273,
           -0.02262207257259189,
           -0.0386150455001534,
           -0.04604266674393075,
           -0.03571752462832298,
           -0.006204185159620892,
           0.02546060502985416,
           0.03395521079622363,
           0.011434081293606386,
           -0.021915082452520912,
           -0.03809682494596675,
           -0.021727717959565025,
           0.012252536656002056,
           0.033576138685546146,
           0.03262885563745016,
           0.01953485249968572,
           0.00739483248448762,
           0.0023575107667410545,
           0.0004687819634102424,
           0.000040169239385823875
          ],
          [
           -0.000007782033486662271,
           -0.000023094464505464972,
           -0.000026426606050251668,
           0.00008855316999581115,
           0.0005404065600276179,
           0.002153971570592313,
           0.0082343479030131,
           0.021696079339262448,
           0.04099682130828798,
           0.06132601874077033,
           0.07195544739406423,
           0.06649426739707444,
           0.0470634889824637,
           0.017567219035636652,
           -0.014992921673241417,
           -0.03705595317910107,
           -0.039669008874207115,
           -0.02175354403893656,
           0.012716704662366286,
           0.05000327609517399,
           0.07025273101702229,
           0.06536645100225885,
           0.04367881553785219,
           0.01853762723598683,
           0.0031366730921394475,
           -0.000587929413612805,
           -0.00014198660630745336,
           -0.000030522305566743664,
           0.00001824190167108002,
           0.0002502718268492141,
           0.0013938775279421455,
           0.0037227557937428973,
           0.007531729467052918,
           0.013387071772832711,
           0.021027303779227065,
           0.03443958265205104,
           0.05592054149360612,
           0.08283786290351629,
           0.10114346627952193,
           0.10130923993919781,
           0.0828523018317762,
           0.05358363481062303,
           0.021503770006458686,
           -0.00444086542790685,
           -0.00851232225421293,
           0.011344994456390908,
           0.038580904264326435,
           0.05048638567521936,
           0.039545657922523535,
           0.021701419544387174,
           0.008302543770026781,
           0.0023739834351137377,
           0.0008954559446788974,
           0.0005757778972786594,
           0.00016441585690433238,
           0.00002642597840051942,
           -0.00001011409722761793,
           -0.0002293002526782123,
           -0.001168370540741641,
           -0.003715720600109385,
           -0.008975675856077715,
           -0.01839774560247593,
           -0.03555279842892728,
           -0.06070405449914003,
           -0.08578688325090869,
           -0.0889381159255122,
           -0.052557575077208825,
           0.010258308641956409,
           0.0623863298894492,
           0.07650151847514212,
           0.05498805360244392,
           0.015524652870250285,
           -0.020435164179472665,
           -0.031576437353206276,
           -0.00541174885086429,
           0.036617959807667695,
           0.06515813917617927,
           0.06572970879321874,
           0.04864391987580811,
           0.02688602113111398,
           0.011038383203196818,
           0.0033615178150340442,
           0.0005970569286402091,
           0.00003500762572213374,
           0.000001856433987185839,
           -0.00003378558310693021,
           0.000028722556583124967,
           0.0004192469745767814,
           0.0002729883757014708,
           -0.0024042444104570453,
           -0.0096722957776447,
           -0.019565958580735135,
           -0.022421732230850228,
           -0.0038760700648321897,
           0.03616275181008201,
           0.07867084083925661,
           0.10161608040480996,
           0.09823446671651892,
           0.08133684193743908,
           0.06251848004678318,
           0.05205111049117709,
           0.0539924921845949,
           0.06556581837042437,
           0.07142622361907602,
           0.0631982447287344,
           0.04600497966942332,
           0.028725559576299405,
           0.015377458499676788,
           0.006056375931637841,
           0.001702880369577282,
           0.00022988726706469026,
           -0.00000994349421806346,
           0.000015923793167274735,
           0.00017460320021176482,
           0.0010179301853455306,
           0.0025470364726713065,
           0.004161927079523606,
           0.005493441141032607,
           0.008268246835238264,
           0.011750299529631907,
           0.008919232956839078,
           -0.0034531758322900933,
           -0.018082903593257406,
           -0.01866753120491905,
           0.00002079758516245362,
           0.03491775247889516,
           0.06426373379521623,
           0.060417845592178485,
           0.017602765265211005,
           -0.03516543198829628,
           -0.0580011109275844,
           -0.033937195090708056,
           0.012808132613623022,
           0.04428969944909009,
           0.04522915278803653,
           0.026625847920763314,
           0.008031406918741596,
           0.0014325595393349484,
           0.0002539968340333254,
           0.00004059335333105848
          ],
          [
           -0.000010272329579590447,
           -0.000018188876575599256,
           0.0000029040502628203942,
           0.0001787637623268701,
           0.0009758907664537043,
           0.0045957356758320606,
           0.014924762714831478,
           0.03385041005423152,
           0.05663221935051499,
           0.0737936780760494,
           0.07464988552440155,
           0.060711573180208867,
           0.03688151515917959,
           0.00495308562777131,
           -0.029615598465032596,
           -0.05217550405023351,
           -0.05197011566595691,
           -0.03227221727795,
           0.0061817444408250035,
           0.048605282961712105,
           0.07357191203224242,
           0.07197369329166597,
           0.05188947633978624,
           0.02506305394243847,
           0.005875997893713423,
           -0.00019505341358272548,
           -0.00009746004587267609,
           -0.000018253383594098424,
           0.0000312577584823513,
           0.00029906666382646993,
           0.0014976948079707085,
           0.003981068716681802,
           0.008603935679157982,
           0.01594955135004847,
           0.027085129207271474,
           0.047285325701609614,
           0.0766783809243927,
           0.10173723539182458,
           0.10426990524681112,
           0.07799041017577979,
           0.03932349700198519,
           0.0006110742480298561,
           -0.03489609186584463,
           -0.05353617828141726,
           -0.03859113492363549,
           0.008759942740682813,
           0.05681747941909202,
           0.07218412809894312,
           0.0509999886937053,
           0.022534312499720998,
           0.004841532801045273,
           -0.0008198319854134281,
           -0.00027163944452464973,
           0.0002745553380991024,
           0.0001018937743102254,
           0.00001932277688303207,
           -0.000021161330390712462,
           -0.0002935163448005675,
           -0.0011485322583795169,
           -0.0032808703039046614,
           -0.007534255748381522,
           -0.01649052442110069,
           -0.034076505753794555,
           -0.05812775058792386,
           -0.07481993496133038,
           -0.05988820892344515,
           -0.006502372415240265,
           0.05327779199625972,
           0.08077665964690416,
           0.06593517486759154,
           0.0267427636056684,
           -0.01461316261544672,
           -0.043525887930808894,
           -0.04315967911235556,
           -0.008125584694836903,
           0.03566124243935151,
           0.059577849067846134,
           0.05620257300860977,
           0.03884322250227438,
           0.020790034880013682,
           0.007722326588241431,
           0.0019328491321235239,
           0.0003719228506153072,
           0.000027932646133936837,
           6.54020874657079e-7,
           -0.00007763827567358345,
           0.00003276084937688456,
           0.00046334002054425604,
           0.000035895455501935284,
           -0.004676236898695878,
           -0.013827759033480717,
           -0.02293007192788238,
           -0.01914790666321173,
           0.010687196551926305,
           0.05454420270866531,
           0.08558620819245728,
           0.08803960510034596,
           0.07081605356566685,
           0.04892386829825306,
           0.03226512652569492,
           0.028451507550495688,
           0.036187028781560784,
           0.04731292576901348,
           0.04902154744885568,
           0.03987407873587669,
           0.02672384651215188,
           0.015835718032650083,
           0.008438269763435173,
           0.0027094516957607197,
           0.0004522222876858501,
           -0.000014237917277436844,
           -0.000012486397389997952,
           0.00002542104715525416,
           0.00027636152267091613,
           0.0011689228762672534,
           0.0029039347934327287,
           0.005357923175235773,
           0.010158510033816355,
           0.0182533769119776,
           0.025859321657184305,
           0.022584239000016503,
           0.0067765851400469635,
           -0.01037835394175011,
           -0.010268764922681365,
           0.009362939762905177,
           0.040262765567737877,
           0.05982290714347119,
           0.03985449303483913,
           -0.01760447219991815,
           -0.07543933971097451,
           -0.08927395220580071,
           -0.04916482384782861,
           0.011991497403761549,
           0.05183015937170072,
           0.05532974577847042,
           0.033450044772370985,
           0.009754114686151122,
           0.00062315489567417,
           0.00012417438764431547,
           0.00002094733625409347
          ],
          [
           -0.000005702756756529112,
           -0.000019924870561987696,
           0.00003466738546387438,
           0.00031262646471440496,
           0.0016635646005974045,
           0.008324080416798078,
           0.023788486409234772,
           0.047604800913568876,
           0.07130319282168074,
           0.08191401566784706,
           0.07376052279543817,
           0.054186147631172285,
           0.029196131454484287,
           -0.004014191333936166,
           -0.04093804238435271,
           -0.05934016471748674,
           -0.0533143912001058,
           -0.028080830230378082,
           0.01181899246963684,
           0.053877124976646276,
           0.07789657551304797,
           0.07706886767016885,
           0.05730767611273582,
           0.030728920244582705,
           0.00860824828945805,
           0.00010995634371260474,
           -0.00003960849514133668,
           -0.00001242210903404681,
           0.000019303590797248666,
           0.0001978582884200007,
           0.0011788016345340695,
           0.003010861088781623,
           0.007165539580495998,
           0.01460021595268168,
           0.028501395955966916,
           0.05457947526712043,
           0.08624651514464844,
           0.10045460163215797,
           0.07784520221645408,
           0.02795320153336332,
           -0.021282100833481324,
           -0.059415878907944586,
           -0.08896919856198204,
           -0.0928911170955004,
           -0.05319542745448535,
           0.021419490553796404,
           0.08046842008797933,
           0.08735209669775489,
           0.05446750542803279,
           0.019162474028676144,
           0.0009984489630298265,
           -0.0031621105159496733,
           -0.0011266703163263056,
           0.00013269598512331355,
           0.00008644191239385167,
           0.000004708567524416142,
           -0.000015195940339282084,
           -0.00021332274830371478,
           -0.0008801706512126421,
           -0.0023195110440228325,
           -0.005730483337151597,
           -0.01462912258115989,
           -0.03158951969212824,
           -0.051810481939427756,
           -0.0575941136837295,
           -0.029404306409455332,
           0.021837574753455068,
           0.05898852705190612,
           0.055312489188123155,
           0.02132369371171221,
           -0.01677343354278676,
           -0.044303703275364224,
           -0.0540562759061354,
           -0.03708695396000711,
           0.0034350971699233465,
           0.04085199582229706,
           0.05449158901014117,
           0.04475695452648567,
           0.02807789320822232,
           0.014189295236741438,
           0.004931864401064208,
           0.0006831063323157929,
           0.00014158993110519863,
           0.000007225856799789505,
           -0.000001334955173047483,
           -0.00008225288950888995,
           0.0000015003182003146175,
           0.00012688129799572274,
           -0.001161023578683906,
           -0.007902224285557482,
           -0.018834185187477474,
           -0.025835798397423743,
           -0.014559102066398141,
           0.021330169554050527,
           0.06199673971805875,
           0.0813233709389753,
           0.07524861975337382,
           0.0570021773536672,
           0.03561859352992056,
           0.024330246533085555,
           0.0264891920577189,
           0.032008365779167346,
           0.03351093307880442,
           0.02505501114004054,
           0.014469074933232592,
           0.006219994488755082,
           0.0028849300672099437,
           0.0013118615846709329,
           0.00002085500208917896,
           -0.00032916432843598117,
           -0.000040779072267034354,
           -0.000007879176282898518,
           0.000017981459601804402,
           0.00022221241193379033,
           0.0010429766584829263,
           0.002509809992219916,
           0.005260411397709384,
           0.01342040634866993,
           0.026333824372529444,
           0.03592226671669351,
           0.029468911246273786,
           0.005666341052040497,
           -0.016933574802835798,
           -0.02075938737280679,
           -0.00799640321971182,
           0.01588326264037327,
           0.026585649594722125,
           -0.0047317627403637855,
           -0.06979363938206211,
           -0.11790071387926172,
           -0.10928121503610505,
           -0.05316144930943308,
           0.014441009234799854,
           0.05700483076771141,
           0.06181328913713665,
           0.039998132133007486,
           0.01225810257275324,
           0.0004962397360310595,
           0.00005222504929886676,
           0.000008835401186278908
          ],
          [
           -0.0000030876003386409495,
           -0.000011040124509405672,
           0.00004184483090769903,
           0.0003697963922434475,
           0.002468370129706834,
           0.012622044769333202,
           0.03378149850553427,
           0.061170456239883896,
           0.08202974059817614,
           0.084192224077169,
           0.06849065532292856,
           0.045412806286119316,
           0.02062437692711426,
           -0.015932317076856682,
           -0.05163152702689753,
           -0.062259571883232535,
           -0.04670339052781636,
           -0.01332472670831262,
           0.027418912665592803,
           0.06388436084753146,
           0.08294775290972414,
           0.07990017294539302,
           0.06067724514967683,
           0.03469398969058404,
           0.010858805300814916,
           0.00036856394490248604,
           -0.00002001321360702033,
           -0.000009250047706012051,
           0.000013900035339497522,
           0.00010217370591955256,
           0.0006078858113682274,
           0.001907460720381601,
           0.005482955096508769,
           0.012773988213351805,
           0.02913010499310423,
           0.05938648167289543,
           0.0889333263413048,
           0.08838760642015878,
           0.04463195005057039,
           -0.015724925358796087,
           -0.06263937282041813,
           -0.0974906705513537,
           -0.11760551087109969,
           -0.10323946649359506,
           -0.03789026352842635,
           0.05028095964775422,
           0.09908221184172401,
           0.08879998919983274,
           0.047329160807276845,
           0.012940969106447637,
           -0.002245421967986566,
           -0.004283002713722182,
           -0.0012593741441219285,
           0.0001358941764046293,
           0.00003539182594532548,
           -0.000003533779618675407,
           -0.000009950974818939713,
           -0.00011389983504604025,
           -0.0004944106822610999,
           -0.0013904032530462915,
           -0.004400603674020358,
           -0.01304939884281785,
           -0.027467312835002103,
           -0.04043606232385823,
           -0.03680103835926935,
           -0.007944038377264198,
           0.02619414486481547,
           0.0337283323523913,
           0.00999813850569782,
           -0.024103067006517438,
           -0.047603342531204774,
           -0.056542204902900656,
           -0.046841008498771305,
           -0.020992828541809855,
           0.01522930634087297,
           0.041778058160425166,
           0.046034914791150634,
           0.03408804759433196,
           0.020049637741072553,
           0.00936583952000794,
           0.0030118781696427633,
           0.0002533082122971495,
           0.00009304315459243358,
           0.000004535570552660844,
           0.00000252159750384624,
           -0.0000602274122406775,
           -0.00007457430442637424,
           -0.0002917706949132023,
           -0.002631599588786992,
           -0.011260285594300814,
           -0.02305443605417656,
           -0.027366862637735898,
           -0.011770454296998953,
           0.025271413318253676,
           0.062445633947726696,
           0.0787332586111016,
           0.07762944515785372,
           0.06288375534070913,
           0.04168513142622702,
           0.03192984670890191,
           0.032608079672840455,
           0.028575624137328646,
           0.014821898864138436,
           -0.002262151481276919,
           -0.012831916317716333,
           -0.01358896031625306,
           -0.009726754407505337,
           -0.005740627980188596,
           -0.0033592250758833968,
           -0.000872695044456617,
           -0.00007821642013614981,
           -0.0000028725661525005205,
           0.000007875304942450783,
           0.00011212966146688475,
           0.000650465347749128,
           0.0017691731752690013,
           0.005218411863936234,
           0.01749051125759259,
           0.0350647224811517,
           0.04460503834518556,
           0.030276906150596954,
           -0.003544476362555241,
           -0.032673098474736914,
           -0.04458439796037363,
           -0.04137019645125297,
           -0.024494182550110058,
           -0.019785836360569863,
           -0.0576003661128921,
           -0.11861095216487487,
           -0.1409123867590361,
           -0.10847258967154343,
           -0.04454469089013021,
           0.018526388034739417,
           0.057115614448377434,
           0.062851365804938,
           0.04381829092199378,
           0.014830377828380972,
           0.0004201621734402454,
           -0.000006146710631845112,
           -0.000003647573437001772
          ],
          [
           -0.0000016692471500168703,
           -0.0000013588958619916934,
           0.000020360478773015267,
           0.0003385201138744584,
           0.0035082223437764115,
           0.01824404530173144,
           0.04395700155979734,
           0.07232907617287455,
           0.0880617527137058,
           0.08107329445221118,
           0.05847443662448771,
           0.03347033896387612,
           0.00796412309074605,
           -0.032920098960831055,
           -0.061828394506542456,
           -0.06434211983703071,
           -0.035917460099680595,
           0.003702314818319183,
           0.04358047058388679,
           0.07437421707067612,
           0.08751782616862293,
           0.08206075007439907,
           0.06260540935127232,
           0.036868676070034176,
           0.012305502647822111,
           0.0005475441814950486,
           -0.00004694492065807651,
           -0.000010747581525043127,
           -6.607429422039102e-7,
           0.000039144131663783856,
           0.0002482779105646104,
           0.001179018028348628,
           0.00448636240175329,
           0.012288334808747659,
           0.031066846347672525,
           0.062218513626939774,
           0.08705201099778827,
           0.07732079203505675,
           0.028987853949118143,
           -0.025530446016552327,
           -0.06532541415169152,
           -0.09831378500605417,
           -0.10717333447712829,
           -0.07564387360586071,
           0.004772109728860323,
           0.08135467490581123,
           0.10188088452386246,
           0.07408625320922528,
           0.03254126288737337,
           0.00613506777562774,
           -0.0033460356017383317,
           -0.0035960898731490086,
           -0.0008316217912790498,
           0.00022439098157994966,
           0.000028177067891468927,
           0.000003037860634064553,
           4.4843324594436556e-8,
           -0.00004437596173339275,
           -0.00021589461042073593,
           -0.0007430244433755968,
           -0.003369687828706607,
           -0.010379263314883945,
           -0.019421301242872977,
           -0.023917597021097328,
           -0.015100827602351626,
           0.00516301085903334,
           0.01738826714558776,
           0.005018804332292797,
           -0.021352672388927765,
           -0.04139368752840666,
           -0.047881144085736245,
           -0.04053000853195925,
           -0.02576677571578623,
           -0.009111833836498847,
           0.012933573108793405,
           0.029897174790942588,
           0.033357282686363704,
           0.02547401798420078,
           0.014047546708593546,
           0.005972849899664436,
           0.001498642142464054,
           0.00015450485412465758,
           0.00008121120073828005,
           9.359752622448158e-7,
           -4.896903357780327e-7,
           -0.00003116057972664082,
           -0.00007123462109598736,
           -0.0005616600832724475,
           -0.003373224046972862,
           -0.013227370688470201,
           -0.02539690934083229,
           -0.029829530942760998,
           -0.015564594579745612,
           0.01886678832015339,
           0.052930369649863314,
           0.07395302067172779,
           0.08145281514223848,
           0.0678423944220666,
           0.04538953817144191,
           0.034690702836615656,
           0.03280575849590008,
           0.019963461232459196,
           -0.001955055208748716,
           -0.023836837571145672,
           -0.0326920571509042,
           -0.028828742066301677,
           -0.02113215813316008,
           -0.013274408874444078,
           -0.007369460830577834,
           -0.001752810135260066,
           -0.00021742409311735635,
           -0.00002726787938560409,
           0.0000018038531439339607,
           0.00003925815382316277,
           0.0003064123307426434,
           0.0012178871514544462,
           0.0058833688517222855,
           0.023622546852256555,
           0.04416318125841348,
           0.04953851354193436,
           0.024606584468420234,
           -0.019649401346911514,
           -0.056851769951145575,
           -0.077655247944606,
           -0.08305171972657742,
           -0.07132292963072172,
           -0.07218232993569088,
           -0.10852882868005881,
           -0.1503275186845091,
           -0.14190497195749543,
           -0.09553942281403345,
           -0.035345856894926884,
           0.019460022933492367,
           0.05288218787255032,
           0.05896335514298185,
           0.04360710078064334,
           0.01602311097717303,
           0.0005028337965817377,
           -0.000010782925093549561,
           0.000019132897821491373
          ],
          [
           1.5800326750006925e-7,
           0.000001158114881319849,
           0.00001560873385028852,
           0.0003334535163872176,
           0.005088852886395417,
           0.024667404866522937,
           0.053208740769537494,
           0.08060013307713691,
           0.09012063264027854,
           0.07488591865547277,
           0.046090910718138915,
           0.019407231440131328,
           -0.008372142379106958,
           -0.05007984376684315,
           -0.07087725950390769,
           -0.06554112802658724,
           -0.026295214006673926,
           0.013530585044140704,
           0.05251247542702323,
           0.08101714738049702,
           0.09088426563847928,
           0.08406466904959692,
           0.06311997726460312,
           0.03699952449853587,
           0.012828428605905901,
           0.0007949826330255212,
           -0.000028823456113919964,
           -0.000001973840801852642,
           -2.9949630469945714e-7,
           0.000007206374193971284,
           0.00008552537190508314,
           0.0008135726332643448,
           0.003867335689979158,
           0.01181935213102654,
           0.031301650752235545,
           0.0603198333892498,
           0.0825129500952336,
           0.0746080333261227,
           0.039243015960509726,
           0.0008328824802274883,
           -0.03294791310324992,
           -0.06276326441408397,
           -0.061235385239287524,
           -0.019825989628161657,
           0.05778223640330378,
           0.10299568208763264,
           0.09226161549073127,
           0.049790855588501895,
           0.015451443267997085,
           -0.00019702921157403063,
           -0.0036308199247324364,
           -0.0022494667152051792,
           -0.0000911875169812889,
           0.0003183774510579628,
           -0.00003984169961299764,
           -0.000003307200629865709,
           -0.00000393215226364286,
           -0.000012766810482370518,
           -0.00009585260064227022,
           -0.000411057897946852,
           -0.0018556751885446497,
           -0.004858856066732085,
           -0.006129438525957643,
           -0.0024805053187423407,
           0.007400203363900518,
           0.017998094671594668,
           0.01561719902627683,
           -0.0013389138411700155,
           -0.017109387694294275,
           -0.021077878769554217,
           -0.01574399123485608,
           -0.005126546609713343,
           -0.004095648665789249,
           -0.006533430209933852,
           0.00013665650495681435,
           0.011484301319881743,
           0.019006494916782163,
           0.016566407904651633,
           0.008633232739841415,
           0.002947288800257766,
           0.00022549690312844732,
           0.00008580708244275365,
           0.000042129644429316336,
           -0.000002649032402985047,
           0.00000316129725411577,
           -0.000012253921763610521,
           -0.00004261564197672439,
           -0.0006725631657930342,
           -0.0036802306047496454,
           -0.014019160286128988,
           -0.02739532487393942,
           -0.03643582015142831,
           -0.030135955816540747,
           -0.006392598134288199,
           0.023394629233098468,
           0.04803758506840633,
           0.056920846891254914,
           0.04072003940377498,
           0.02068570841176446,
           0.017470758045978106,
           0.0227592975958641,
           0.01246788572927786,
           -0.009515782040936869,
           -0.03188157356313274,
           -0.04112990948173949,
           -0.03783589284785028,
           -0.030173141798098938,
           -0.020792558505797636,
           -0.01131432265311292,
           -0.002713812499638256,
           -0.0002782190084553643,
           -0.000007347323589649739,
           0.000002429121706440289,
           0.000010904845889317558,
           0.00011383631901353432,
           0.0007937533588408764,
           0.00706639509304642,
           0.0305765723464354,
           0.051520694747315576,
           0.05008573734921399,
           0.01292813678643399,
           -0.04246237257498189,
           -0.08720355266299058,
           -0.11295121480433681,
           -0.12383543629003618,
           -0.11371364360749495,
           -0.11490810027616388,
           -0.13860621567368206,
           -0.15435462903996958,
           -0.12766815314028246,
           -0.08235232365631186,
           -0.029764260090808983,
           0.016406100419054746,
           0.04682034655644686,
           0.053657622302379596,
           0.03963975980969595,
           0.015025288125491098,
           0.0002947795956919069,
           -0.000027431829213151074,
           2.1501092359630561e-7
          ],
          [
           2.3187374773626628e-8,
           0.000002388952407335269,
           0.0000198996260100316,
           0.0004410909107586329,
           0.007244642141639626,
           0.03136336355463918,
           0.061099017708758474,
           0.08565364199051936,
           0.09008940214267747,
           0.06918235580755337,
           0.037401477371674346,
           0.008899145700252336,
           -0.022379714937139375,
           -0.060111280437790716,
           -0.07636328577042287,
           -0.06314586894150348,
           -0.02165354601337584,
           0.017682609789434593,
           0.057508211869768046,
           0.08527925980053552,
           0.09418986393708449,
           0.08521976406025764,
           0.062251259774570224,
           0.034715652112126606,
           0.011513034465569871,
           0.0007974566016452433,
           -0.00003855556482787089,
           -0.000010214826787285781,
           2.501469840852712e-7,
           -0.0000015812718072721198,
           9.69123344574293e-7,
           0.0006053963841604029,
           0.0028329830448579263,
           0.009536717383633517,
           0.025862826288795444,
           0.04962287362438319,
           0.07050948263554012,
           0.07184495011626699,
           0.054361846830024665,
           0.029695476330570104,
           -0.0004508842273188201,
           -0.021105011321031167,
           -0.011784473279836557,
           0.038025923344997214,
           0.09955548121592851,
           0.11197915040409287,
           0.07446318531073202,
           0.024693769811510124,
           -0.0013734029377245498,
           -0.007377628189387296,
           -0.005544706195949572,
           -0.0023606410298549984,
           -0.000017100374831873082,
           0.00024020727339546408,
           -0.00007050999699446772,
           -0.000006699505229607996,
           -0.000001547032375796976,
           -0.0000027973734982410964,
           -0.000013906301288749637,
           -0.00003076099795752154,
           0.0007304494783394955,
           0.004050245596752178,
           0.01106855415536298,
           0.021094609586135748,
           0.031921908544138025,
           0.03651855892799097,
           0.02900397633623282,
           0.01774208156137007,
           0.016190450601999563,
           0.02307691159554667,
           0.03349223168815251,
           0.033641571065866606,
           0.013506787805184823,
           -0.006561322731364814,
           -0.01152199131325119,
           -0.003008152297205749,
           0.006294718310050526,
           0.00674075002118271,
           0.0018044265301376972,
           -0.0005782777831907581,
           -0.0007834318041779953,
           0.0001415139544196033,
           0.0000449220213663848,
           -0.0000029577391031493757,
           0.0000011198574734127207,
           4.023248280445351e-8,
           -0.000004067415622946052,
           -0.0007749099472757665,
           -0.003728282312787798,
           -0.013853957498275542,
           -0.029372828066645547,
           -0.04639334702743898,
           -0.05337426967858261,
           -0.04476250077683636,
           -0.024106869145198263,
           -0.0043983731648344375,
           -0.0008235698554142564,
           -0.016537139096651644,
           -0.02405807681862275,
           -0.003969627247243873,
           0.01730821830539128,
           0.014620348977334888,
           -0.006643820456406005,
           -0.029759611628777858,
           -0.04306896037334047,
           -0.0440703475926427,
           -0.037406042236376044,
           -0.026244594273541103,
           -0.013821612580351821,
           -0.0037122332594124786,
           -0.0003879365263205491,
           -0.00003823598397854719,
           0.0000011465130582447598,
           0.0000034108617976620296,
           0.00004278901028684189,
           0.0006529692003947465,
           0.008728802379474333,
           0.036586687849585964,
           0.05538355899052803,
           0.04594117563217862,
           -0.00028635891536060856,
           -0.06280153005724332,
           -0.11169340536012902,
           -0.1387274284719754,
           -0.1471222161747217,
           -0.13070171948543477,
           -0.12197044573476509,
           -0.12991683477171714,
           -0.13187484984690243,
           -0.10838220023901987,
           -0.07241261253663771,
           -0.028137983745343462,
           0.012444025344124638,
           0.041059750196065906,
           0.04677597756343572,
           0.032966787581988594,
           0.011852616094032748,
           -0.00007104682779108131,
           -0.00005789774215569556,
           -0.0000037559849285735104
          ],
          [
           -1.6313261937206666e-7,
           -5.354107161776198e-7,
           0.00004291748725072538,
           0.0006829554031086111,
           0.009718139608982584,
           0.037134735090793396,
           0.0663822638100394,
           0.08858748558278633,
           0.08938762032970829,
           0.06610868176753551,
           0.03297531220779026,
           0.0024332678748928455,
           -0.030336001639758126,
           -0.06297591622110926,
           -0.0766824610040627,
           -0.05773672010667528,
           -0.018049988527014355,
           0.024031720144480916,
           0.06507849929835163,
           0.09141421711365784,
           0.09831191926368615,
           0.08429382319980812,
           0.057887770038233165,
           0.029597566577034325,
           0.009043180597187476,
           0.0005907894837664728,
           -0.00009625478479434888,
           -0.00000976059512864555,
           0.000001989783690291555,
           -0.0000015647671828990209,
           -0.00009435782276492142,
           0.00009732425673549723,
           0.0008046194415823772,
           0.004036993916286527,
           0.013088815820721801,
           0.028049224805027025,
           0.04380939703851051,
           0.04992679152451728,
           0.042685013643152164,
           0.023775112412289804,
           0.000462219705416747,
           -0.007678748957232759,
           0.017006653618366386,
           0.07574370798603232,
           0.1188195364501526,
           0.1049295695215448,
           0.04943358593812961,
           0.0009972270774146104,
           -0.01736984204544503,
           -0.015893633343323783,
           -0.009329054542208589,
           -0.004190926374274038,
           -0.000999884643856049,
           -0.00021509922994258996,
           -0.00007290511197122519,
           -0.000008019139251202472,
           -0.0000014829342457786332,
           -0.0000013135542187638773,
           0.00006783046712911907,
           0.0006131631062058294,
           0.004705150152008582,
           0.015061733773431578,
           0.02843841201113778,
           0.04287922481723047,
           0.05423254197974351,
           0.05558417519383391,
           0.048978794218535876,
           0.04475256896252559,
           0.05238835916239848,
           0.06480433779106792,
           0.07354287662960207,
           0.05981625324642952,
           0.026661344970542074,
           -0.0037622445261367723,
           -0.014662856747265121,
           -0.009216970190597423,
           -0.004772820391840467,
           -0.005149469716284359,
           -0.006487454052198749,
           -0.004396032811684159,
           -0.0013941944564119912,
           0.00019753835398069933,
           0.00003644130636068593,
           0.000006436377895474452,
           4.842425331658202e-7,
           2.2284021445297383e-7,
           0.000029878166851905465,
           -0.0007277402002081209,
           -0.0032827188322319396,
           -0.012491316971587554,
           -0.030250671116965642,
           -0.0529841400507449,
           -0.07243880109502188,
           -0.07748432287588437,
           -0.06656882104356,
           -0.055069589586096486,
           -0.05742651009649268,
           -0.0648083487607887,
           -0.047836311018578194,
           -0.0047087766778729475,
           0.023247249295749266,
           0.020125239923518796,
           -0.004911856019052639,
           -0.02995694634177193,
           -0.047070695204967754,
           -0.049670607636557555,
           -0.042918381419085876,
           -0.029079231807524406,
           -0.015105395387336275,
           -0.0044276856184608014,
           -0.000560917886381587,
           -0.000041667244191069064,
           0.000002006496710157613,
           0.0000023153391931707964,
           -0.000020589385508439545,
           0.0004256922087088008,
           0.010271095710018404,
           0.03958337336189214,
           0.05512847426590087,
           0.04074996136720559,
           -0.010776362267572587,
           -0.0739700134844868,
           -0.12093944006546005,
           -0.14138661037021916,
           -0.1373018646631671,
           -0.11133142850700439,
           -0.09276241098107665,
           -0.0964459923323681,
           -0.10213079013243477,
           -0.09098603394301667,
           -0.06355622516584752,
           -0.02602451287543763,
           0.01039057607847899,
           0.034696206327828875,
           0.03730059668456299,
           0.024033915727444174,
           0.006995951418077987,
           -0.0006337940079020474,
           -0.00004684898452240916,
           0.0000014206231840000263
          ],
          [
           0,
           -0.000002786995179506635,
           0.0000723785939826664,
           0.001066399385139841,
           0.012475858089612343,
           0.0411661039329504,
           0.06891482120874999,
           0.0886942358501594,
           0.08756830828519233,
           0.06450503627545384,
           0.030269667713440338,
           -0.002616897910357074,
           -0.03415664640902412,
           -0.06255492253314239,
           -0.07099014563153548,
           -0.04766629115605029,
           -0.005836732464240864,
           0.04054780819211871,
           0.07946674260321143,
           0.10069012063508796,
           0.10018767967196353,
           0.07897113688891283,
           0.04926509546427561,
           0.022580241278806413,
           0.005941624193007821,
           0.00034446932117117085,
           -0.00010330872870605674,
           -0.000011006784116136554,
           0,
           -0.000011476480790101811,
           -0.0001485696227013337,
           -0.0006671079698933251,
           -0.002025446892471656,
           -0.004346406326862474,
           -0.004491631652419342,
           -0.0006796957393628983,
           0.005587018023192483,
           0.009135677018439174,
           0.0036472738635351227,
           -0.011167004626701619,
           -0.02337504799633491,
           -0.014521819728748423,
           0.03012394452517272,
           0.09121944161621215,
           0.11535397076900157,
           0.0810608761534246,
           0.02049486834662933,
           -0.02075664007497963,
           -0.03128424368050683,
           -0.024863326951817283,
           -0.014756739394604335,
           -0.007213285900439442,
           -0.0028569778925652462,
           -0.0009584566146951494,
           -0.00017234252648046727,
           -0.000003227696720292358,
           0,
           -0.0000039173229080329,
           0.00008092164104525664,
           0.0016011752473567818,
           0.00977537875291322,
           0.025646649421062775,
           0.04214014301923534,
           0.056269820715621324,
           0.06527803041984395,
           0.06494118158696753,
           0.05998702745908914,
           0.0603350422031698,
           0.07156100388417543,
           0.08833693086762845,
           0.0962534244405737,
           0.07638212478534531,
           0.039644344917623406,
           0.005808499646779524,
           -0.010110713372493703,
           -0.01479283352662285,
           -0.0181467966981231,
           -0.019077490430429098,
           -0.014730834946241639,
           -0.0073027655320371315,
           -0.0015065262143649422,
           0.0002906209597966304,
           0.00005473612266686016,
           0.000005126061173046752,
           0,
           0.0000033436285713320505,
           0.0000432900203966853,
           -0.0008428832409252436,
           -0.002613716118169797,
           -0.009152410171119056,
           -0.025476207067986457,
           -0.048956739127909654,
           -0.07284494948414683,
           -0.08611592117389011,
           -0.08470246394653948,
           -0.0811464415205331,
           -0.08207728445105168,
           -0.07570915550295979,
           -0.038609206714094485,
           0.010299974139607511,
           0.030451086649260276,
           0.017051720881675177,
           -0.01296436559905911,
           -0.0403236688456847,
           -0.05588697679773188,
           -0.056101504794757076,
           -0.04534954049837876,
           -0.028798752417691784,
           -0.014372151924761841,
           -0.004725073820441583,
           -0.0006079502152302416,
           -0.00003579108912321553,
           0,
           -0.000006764525297635751,
           -0.00002906759305917646,
           0.00007269301161467364,
           0.011604747807274189,
           0.03975494899401419,
           0.052125872595472876,
           0.03477158975903617,
           -0.01510928638027071,
           -0.07404737130971986,
           -0.11521550051182365,
           -0.12486776252907143,
           -0.10842281387867454,
           -0.0746116939661088,
           -0.05432548929721957,
           -0.06313510848034712,
           -0.0790042417015438,
           -0.0775888226591882,
           -0.05571825826916988,
           -0.02316086247185087,
           0.009167856529499833,
           0.025944784547382686,
           0.025169792424917847,
           0.012928281424656815,
           0.0015705322910821334,
           -0.0014019497870118708,
           -0.00013577046308031935,
           0.00000829932702821542
          ],
          [
           -0.000004198842832727839,
           -3.324410821220144e-7,
           0.00011147812181934723,
           0.0017005072912552974,
           0.014690487205243958,
           0.04258033956887992,
           0.0689552349174026,
           0.08702693981798916,
           0.08599968838260826,
           0.06362156575286859,
           0.030010314342814082,
           -0.0038532502080526566,
           -0.03346898564836342,
           -0.05648024086617956,
           -0.056114357427335206,
           -0.026432812678955905,
           0.01969297968589651,
           0.06525733453586055,
           0.09677668572227692,
           0.10765225239445639,
           0.09514171858858136,
           0.06730633324486124,
           0.03800684475613873,
           0.015214681797065147,
           0.0033592110380906864,
           0.000161205530861934,
           -0.0000654245958213934,
           -0.0000075587611862999996,
           9.997662337614896e-7,
           -0.000006342153946421006,
           -0.0002595798889214724,
           -0.0015986782038525753,
           -0.005789429809852758,
           -0.013744302032249116,
           -0.022766776168253393,
           -0.028369703045115664,
           -0.029701210026711274,
           -0.030173957843760004,
           -0.035115380103633825,
           -0.0415858825928526,
           -0.038882672115175425,
           -0.01303932367108447,
           0.04014183873987948,
           0.08783560470731376,
           0.09065961998302578,
           0.046268177559280824,
           -0.008353027008860753,
           -0.03948745139544893,
           -0.04250429834934171,
           -0.03187801066571742,
           -0.019586089621171584,
           -0.010331025671219966,
           -0.004722165452484033,
           -0.0016720133418846954,
           -0.0002700247310816453,
           -0.000019396582928036064,
           0.0000020407516814120324,
           -0.0000029299018025869943,
           0.00011931984169022639,
           0.002599133192847301,
           0.014103908269115676,
           0.033477906110095226,
           0.05033500786874207,
           0.06115824562079674,
           0.06656367603427353,
           0.06666002376800337,
           0.06533366882802007,
           0.07036198564149916,
           0.0864697148993879,
           0.1075096354983239,
           0.11326757048582081,
           0.09158617556457795,
           0.051668276792030454,
           0.012457189237591515,
           -0.01355665843113285,
           -0.02985749547955259,
           -0.03573040528916035,
           -0.031042785092207002,
           -0.01987006634176828,
           -0.007951505424326086,
           -0.0013761674680313949,
           0.00015734756145233684,
           0.000012214467975246445,
           -0.0000032976954123108476,
           0.0000031955861672361035,
           -0.0000031908066694822497,
           0.00017419445783298544,
           -0.0008068790913647584,
           -0.0011801715404366234,
           -0.003475560590359735,
           -0.014219903710169854,
           -0.03323199123614087,
           -0.056013056302691634,
           -0.07577207272864678,
           -0.08662921672998705,
           -0.0909555889592491,
           -0.08796082989287969,
           -0.06618625666976478,
           -0.020539827513144007,
           0.020778242780220196,
           0.027196658647952385,
           0.002743101441257653,
           -0.030009637381909725,
           -0.05411062188208217,
           -0.064185720400809,
           -0.05947905948005418,
           -0.04371546032564333,
           -0.02633541447149946,
           -0.012802360283710902,
           -0.004361045488086483,
           -0.0004979990815757057,
           -0.000026095326678817562,
           0.0000017628774635922043,
           -0.000006501980824142391,
           -0.00011598790954499515,
           -0.00044514443663758185,
           0.010688758580330212,
           0.03588134377205229,
           0.04708521245358752,
           0.029967482981247445,
           -0.016019058020530795,
           -0.06956066939816258,
           -0.10301082109509827,
           -0.1037050612459989,
           -0.07760466692674262,
           -0.04249004646473118,
           -0.028807621039957012,
           -0.044852961669978576,
           -0.06642296607464163,
           -0.06786376419684116,
           -0.04953015410645624,
           -0.020818279969510148,
           0.004064124827489799,
           0.012918493930747364,
           0.010265407488785358,
           0.002087929901240429,
           -0.002752115985608639,
           -0.0018637292618564262,
           -0.00011129838084188188,
           0.000011377536664512344
          ],
          [
           -7.357479821346237e-7,
           -0.00001073445660928901,
           0.0001562972226894918,
           0.002210941873788161,
           0.015006882069981665,
           0.041175282498811853,
           0.0671423462197311,
           0.08547965981143697,
           0.0868334659806622,
           0.06856015543901291,
           0.03719059364020564,
           0.005093576960355096,
           -0.021106719746341922,
           -0.03632784564667202,
           -0.027658099166950216,
           0.0060097116813647,
           0.051355088127981195,
           0.08902832146935212,
           0.10745751829491502,
           0.10283312173487082,
           0.0799571496870068,
           0.050988746112424564,
           0.025538514137657908,
           0.009013511261298542,
           0.0017948298281927448,
           0.00008734960791405073,
           -0.00004884078760247924,
           -0.00000260849587631949,
           -7.87724966030647e-7,
           -0.000004998003437081621,
           -0.0004313451108718426,
           -0.0024985304695415217,
           -0.008894496548857472,
           -0.021677769806080303,
           -0.037657830536716265,
           -0.05115042700277019,
           -0.05927900155254205,
           -0.06275790407424325,
           -0.06402871868373232,
           -0.05942352334462949,
           -0.042561922254210835,
           -0.006708602904163011,
           0.04078072789213155,
           0.06648948239229134,
           0.05101666081453842,
           0.007639963340520067,
           -0.033320314837052785,
           -0.051585726337845104,
           -0.04759396424765559,
           -0.03481929609737337,
           -0.020986816135251003,
           -0.010756903316319436,
           -0.00503258889606119,
           -0.0017400347410032606,
           -0.0002567745692688675,
           -0.00001363878725238233,
           2.7674096365378977e-7,
           0.0000030418523829481,
           0.00020842660573465284,
           0.0033704435875420136,
           0.016233253743381536,
           0.03649816193597551,
           0.05311075334094437,
           0.06351594681287473,
           0.06755439814790541,
           0.06921448363808307,
           0.07460525781244007,
           0.08725429584058479,
           0.11003869711057808,
           0.12896913150830433,
           0.12489379916663478,
           0.09157728722439011,
           0.04105446480035692,
           -0.006850402881348307,
           -0.04083843461212701,
           -0.057283770080909915,
           -0.053360939336221554,
           -0.03763535298718797,
           -0.019536828785498655,
           -0.006131512047894943,
           -0.0009890512012287781,
           0.000014181019060797615,
           0.000003944108259082134,
           -0.0000010251907224082995,
           -2.8548769359240584e-7,
           -0.000005751091307694818,
           0.000317394466204337,
           -0.00010789111372306998,
           0.0014310989580736397,
           0.004961893618430039,
           0.0019924388306955636,
           -0.009933555942117171,
           -0.03207612665591111,
           -0.05895131505565465,
           -0.08272254565700413,
           -0.09421664202670313,
           -0.08496450706526595,
           -0.05088692488197536,
           -0.003433345409100666,
           0.02641819483396972,
           0.0205306422191075,
           -0.010090432349415243,
           -0.04184455208341595,
           -0.06163717281259576,
           -0.06564972634046688,
           -0.05428546064302669,
           -0.037374172266054315,
           -0.021750008051776758,
           -0.010415322038825331,
           -0.0034496785884875073,
           -0.0004951953438215803,
           -0.000011884602836080857,
           9.29082838914818e-8,
           -0.000002297303820344434,
           -0.00020100541553571635,
           -0.0012194131157963455,
           0.007538473657040399,
           0.028020291569178544,
           0.03944458219806534,
           0.02677681305995197,
           -0.012160306823023345,
           -0.05837270324588917,
           -0.08572179737383658,
           -0.08054952511041931,
           -0.05236538604560822,
           -0.022684464032330754,
           -0.015386519235546426,
           -0.034784068529258284,
           -0.057344309432309365,
           -0.05939202719361143,
           -0.042949048529061895,
           -0.020695944067786423,
           -0.004969241256457812,
           0.00013781979316305042,
           -0.002462242896163316,
           -0.005507939650535567,
           -0.004878930718928453,
           -0.001975507717849825,
           -0.00017659954821579028,
           0.0000030462092105340673
          ],
          [
           0,
           -9.93631305491046e-7,
           0.00019553028770944632,
           0.0022094871218273342,
           0.012675256199619539,
           0.03475787998118225,
           0.06090433252756593,
           0.08175807810639384,
           0.08879216339731699,
           0.07839154623556126,
           0.054371397837512825,
           0.027808812993395028,
           0.0063438444208442244,
           -0.0026579008409284683,
           0.009763004736254155,
           0.040676956295769444,
           0.07609676588328318,
           0.098637585123781,
           0.10024005338498237,
           0.08292225143469303,
           0.056961011029123015,
           0.03187008461991524,
           0.014247137300801663,
           0.004691765393073055,
           0.0008683592093070379,
           0.000020171099262078057,
           -0.000026817348223477926,
           -0.0000029715905483387853,
           0,
           -0.000021673072368485876,
           -0.0005626842767724042,
           -0.003051137688545812,
           -0.010129951692478859,
           -0.02488711578243162,
           -0.04552358772083583,
           -0.0669504072304852,
           -0.08425600817882647,
           -0.09321730566488395,
           -0.0921550592585086,
           -0.0787729043301093,
           -0.05185004104073736,
           -0.013768741833349725,
           0.01948655936087134,
           0.027462907158995763,
           0.007694726121070202,
           -0.023132045186913752,
           -0.0468683355197207,
           -0.05214303336134355,
           -0.043374742427816575,
           -0.02968018046804791,
           -0.017080966948514416,
           -0.008645370134414363,
           -0.0041554814923282345,
           -0.001258105552415437,
           -0.00017773588690795622,
           -0.0000020090523419183923,
           0,
           -0.000010632464316496754,
           0.0001908045148467758,
           0.0032217889887265054,
           0.01454020144156147,
           0.03312174423896494,
           0.051295864253540095,
           0.062084586519801775,
           0.06634604993085387,
           0.07098444570219284,
           0.08133212493321879,
           0.10000010117404615,
           0.12206916804361248,
           0.12741710906982529,
           0.10258080472698043,
           0.05075110466065423,
           -0.011333334484653606,
           -0.06074999577414797,
           -0.0856432343707287,
           -0.08263630371033193,
           -0.060930009533774,
           -0.034816217153146534,
           -0.015044666260064149,
           -0.004101092826582905,
           -0.0007252011127813578,
           -0.00007544156305825052,
           -0.000007611384810930538,
           7.462322716361787e-7,
           0,
           0.000016249520361923703,
           0.000488171899735368,
           0.001032553338058109,
           0.003832488978634238,
           0.01283847180018464,
           0.020149992959901702,
           0.01917411361193966,
           0.003269871658848679,
           -0.02430964236632008,
           -0.05249973073413257,
           -0.066971339107902,
           -0.05196678636567505,
           -0.013318941920585928,
           0.026775618330263953,
           0.04169629761624872,
           0.02365547040122928,
           -0.010991637278895633,
           -0.04251665552184465,
           -0.057437686533573666,
           -0.05443726071439628,
           -0.04157943313244175,
           -0.027335234531132492,
           -0.015712186423165173,
           -0.0075057292364086045,
           -0.002277366497569214,
           -0.0003036919272980475,
           0.0000024704711358831453,
           0,
           -0.000001920171354843896,
           -0.0003578310809987394,
           -0.0019140193837267432,
           0.0027131492302930136,
           0.0167667134769022,
           0.028373376587738322,
           0.02303085433755883,
           -0.0027935361355703302,
           -0.03706739068229001,
           -0.057434487367696026,
           -0.052686652777053256,
           -0.030425697630728884,
           -0.008511024637867749,
           -0.008253323441645335,
           -0.02799921189152035,
           -0.04805340362279764,
           -0.04919369076129685,
           -0.0358389910704756,
           -0.020671410185155024,
           -0.010606805560943983,
           -0.008268986442735483,
           -0.008630262188923848,
           -0.007734707765146061,
           -0.004793904090146479,
           -0.0015103025755902853,
           -0.00016435678497619353,
           0.000002915844385087614
          ],
          [
           -0.000001634699885488983,
           0.00000446154229820556,
           0.0001492656650410347,
           0.0016682841857672743,
           0.008494156003150144,
           0.024552020861550224,
           0.04709503931162788,
           0.06974503657100292,
           0.08252225491126,
           0.08171553190147601,
           0.06863330400797522,
           0.05011084112871599,
           0.035562057662835884,
           0.03070320221137524,
           0.04014121841395596,
           0.06057254736043774,
           0.0794695308859827,
           0.0851988402034973,
           0.07416792757273506,
           0.05367768134526614,
           0.032327133920228554,
           0.015939638428391505,
           0.006502627638477557,
           0.0022377391771413856,
           0.00039610932167655124,
           0.000014445062946353833,
           0.00001626689959866199,
           0.000002591956426844244,
           -0.0000014578527304786993,
           -0.000017740017957848238,
           -0.0004890285108966226,
           -0.0025539366202597465,
           -0.008776867177940342,
           -0.02221599980652398,
           -0.04427532811230503,
           -0.07092063446649018,
           -0.09680245052784509,
           -0.1140296958338895,
           -0.11687702457481057,
           -0.10191255835509629,
           -0.07202481482950605,
           -0.03735309101283855,
           -0.014166237095178945,
           -0.010477252613205005,
           -0.021300627384762523,
           -0.03428247427614121,
           -0.040922441955296866,
           -0.037395195690406634,
           -0.02789792734296509,
           -0.01780051306973177,
           -0.009755020470981382,
           -0.005193036259000757,
           -0.002532957402060108,
           -0.0005776638872294005,
           -0.00006587032067145234,
           -0.0000011762269576159991,
           6.897009511286927e-7,
           -0.00000724431730994694,
           0.00007994032675688323,
           0.0020387667947382175,
           0.009694420739792787,
           0.024655737800032093,
           0.04165252286649599,
           0.05239911645315709,
           0.05573977978269757,
           0.05806870262057818,
           0.06589542795423024,
           0.07943779264214407,
           0.08709482095278645,
           0.07121551002552025,
           0.025862750208169607,
           -0.03552946514816617,
           -0.09070445276248784,
           -0.11981812769212123,
           -0.11466247748270963,
           -0.0867116279098693,
           -0.05267719720996947,
           -0.024955999131513307,
           -0.009015468961679013,
           -0.0022978859154482076,
           -0.0004342587931742317,
           -0.00005861691513162661,
           0.00002254039157528628,
           -8.430247444431216e-7,
           8.122856902079536e-8,
           0.000007113938806633354,
           0.0004549186418245822,
           0.0016556628974794712,
           0.0050591546808488414,
           0.01634275376191422,
           0.03293356290069928,
           0.0463950640040058,
           0.04746278145484656,
           0.03563763518421727,
           0.02076690432186004,
           0.016218164263618877,
           0.031460192280051674,
           0.058666470106057564,
           0.07613144903708302,
           0.06873665080488053,
           0.03628773378970405,
           -0.0033517974695819372,
           -0.03213512072939552,
           -0.04274410235518169,
           -0.03806281950556632,
           -0.027470530974406247,
           -0.01753265961979297,
           -0.009960812742612702,
           -0.004523387667194362,
           -0.0012071310757034537,
           -0.00014005955521124552,
           1.4971846563985772e-7,
           4.5521110994155506e-7,
           -0.000003868024097135714,
           -0.0003298147726138873,
           -0.001846953128539433,
           -0.0011387193466120703,
           0.005902479932031759,
           0.014506630132441507,
           0.01587230227105691,
           0.004199672878529373,
           -0.01373367080451875,
           -0.025436028922242844,
           -0.022660072968892855,
           -0.010347569489952762,
           -0.0011161410663753466,
           -0.006062857121552584,
           -0.02338659690526239,
           -0.03791319079124513,
           -0.03821758216750008,
           -0.02864854559015346,
           -0.018527649975403345,
           -0.012800800350661532,
           -0.010635725778700188,
           -0.009045594899565372,
           -0.00654504219949567,
           -0.0033909336599092926,
           -0.000890926531518452,
           -0.00013067258153599934,
           -6.121646397174179e-7
          ],
          [
           -0.0000015836155140674523,
           -6.430306898020116e-7,
           0.00006556461888240969,
           0.000867240114406614,
           0.004040707717742443,
           0.012636968894268238,
           0.0274674449158406,
           0.04551054408397098,
           0.05938848510853064,
           0.06489795093574804,
           0.060338336869738524,
           0.049897342776453114,
           0.04081767508270436,
           0.0379648178154166,
           0.04154575275447484,
           0.04992517291054863,
           0.055492289424903134,
           0.05259795486912079,
           0.0409470470530718,
           0.026550092034781973,
           0.014142257964668045,
           0.006440513371696314,
           0.0026497336292549785,
           0.001024263480398644,
           0.0002428063449358725,
           0.000025968150091512572,
           0.00001664125228816949,
           0.000004785150326481679,
           -0.000001412294832651239,
           -0.0000023848878457084106,
           -0.0002776610637628537,
           -0.0015360229848419356,
           -0.005505941002570009,
           -0.014647837640839803,
           -0.0319954891807716,
           -0.05653468162236787,
           -0.08393421611246689,
           -0.10522448734643226,
           -0.1124556394099094,
           -0.1013688638556465,
           -0.07608245372908735,
           -0.04880986541827402,
           -0.02966062697579195,
           -0.020495176405382017,
           -0.017763817464091777,
           -0.016744177479668682,
           -0.01602794759558045,
           -0.012564357758071147,
           -0.008717277070188177,
           -0.005674151017298769,
           -0.0034378498055117443,
           -0.0018510580741956223,
           -0.0008943103956682433,
           -0.00014760145236287562,
           -0.000004189712964616252,
           -0.000002171495921752618,
           6.681477964059192e-7,
           -0.0000020149116189270098,
           -0.000044734004915888953,
           0.0006375639075489104,
           0.0038614564075949427,
           0.013040882524829819,
           0.025795496229001097,
           0.035891211598105016,
           0.03832225959651241,
           0.03475422608325511,
           0.02985621563239207,
           0.023188069518177222,
           0.0076933476970119374,
           -0.02579653846348387,
           -0.0731490243280871,
           -0.11847724145596238,
           -0.14207071634477242,
           -0.1353548687562683,
           -0.10410115585794621,
           -0.06565436391402145,
           -0.03407524999822709,
           -0.013792400326323478,
           -0.004318860937162164,
           -0.0010287240994722752,
           -0.00018738579292217056,
           -0.00004051218519789749,
           0.00001324854273838398,
           -0.0000015563533743565309,
           7.869017623889544e-8,
           0.000001144576503072249,
           0.0003232146281186361,
           0.0015251803232250232,
           0.0048388061019879955,
           0.014136584905535972,
           0.03332875994189513,
           0.057548293773918624,
           0.07862314995088765,
           0.09216948067492811,
           0.10108354016953644,
           0.1134208449033056,
           0.12880530162594442,
           0.13671806023842487,
           0.12429992284832737,
           0.08919500751607608,
           0.041878661286715926,
           0.00019535471358555215,
           -0.023773607745498866,
           -0.0297668743907323,
           -0.02439613383225823,
           -0.01652569137779158,
           -0.009976885749493222,
           -0.005605755799762177,
           -0.0022670616553344724,
           -0.00048349251412459763,
           -0.00003743237777663963,
           2.764033211812745e-7,
           4.409857627558807e-7,
           6.543043649670641e-7,
           -0.00019727366400603934,
           -0.0011850903964187923,
           -0.002416367989250748,
           -0.0009612412931378117,
           0.002705593188090419,
           0.004331071557960488,
           0.002188430434785419,
           -0.0024223093680502397,
           -0.0051885338369947005,
           -0.0034049939088430623,
           0.0008995252770646704,
           0.002396729198712041,
           -0.0052830663057905035,
           -0.020196883007587853,
           -0.030359294940350764,
           -0.030210411031445727,
           -0.02269944425852117,
           -0.014833784440102773,
           -0.010754153929435352,
           -0.00817435833721744,
           -0.006055972489114938,
           -0.0036141685131476893,
           -0.0015748914702333676,
           -0.00033122630066444777,
           -0.00004278357185473707,
           -0.0000011301501040936933
          ],
          [
           0,
           -3.815431237071213e-9,
           0.00002125453373143303,
           0.00024913184752417577,
           0.0010852235235182279,
           0.0034293862230646687,
           0.008614534506832272,
           0.016523181278251805,
           0.024616361638737035,
           0.029436584847148953,
           0.029439246020872167,
           0.026734521874428745,
           0.023112328423588725,
           0.019886309412681488,
           0.018387356941532613,
           0.019808845398827685,
           0.021868080770573325,
           0.02015039252906345,
           0.01481002295159226,
           0.009089431495192193,
           0.004826225477549187,
           0.0023628728987540163,
           0.0010025145690630592,
           0.00036108026755840236,
           0.00010074626149773712,
           -6.739870770588698e-7,
           -0.000007652903552176132,
           0,
           0,
           -0.0000011508394055891842,
           -0.00008924882582651177,
           -0.0005622534117212132,
           -0.002160280114802419,
           -0.005937253697079166,
           -0.014056398773230101,
           -0.027532780227004162,
           -0.04453214558586222,
           -0.058733264841270505,
           -0.06346844323545763,
           -0.05390828911812624,
           -0.03492053244441444,
           -0.01581547662730656,
           -0.0008825143241617061,
           0.009357471008770489,
           0.014265205259441378,
           0.014407421218333357,
           0.010988160322646488,
           0.0072756639458205815,
           0.0039748819722034,
           0.0013157649008155423,
           0.00025848009425273995,
           0.00003132822185835966,
           -0.00004617307131238201,
           -2.2320246146320332e-7,
           -0.000008594633858792075,
           0,
           0,
           2.052488261307593e-7,
           -0.000051219208842582807,
           -0.000028321876504404263,
           0.000719072111072629,
           0.0038938048726056772,
           0.010158863888117643,
           0.018403091050751018,
           0.023814646619722858,
           0.022480432169812797,
           0.011615982182902355,
           -0.010558939280698777,
           -0.04415522994540803,
           -0.08196224784753957,
           -0.11539523010933787,
           -0.13194443938307804,
           -0.1250597824960928,
           -0.09934026933408639,
           -0.06541865380638903,
           -0.037067033133409234,
           -0.01746562333221471,
           -0.006439329144807965,
           -0.0021497206891943105,
           -0.0006324319172524692,
           -0.00011853009304076947,
           -0.000011151981217284186,
           0.000002458008421701519,
           0,
           0,
           0.0000010658493459341577,
           0.0001389187038107366,
           0.0007549916212807084,
           0.0029874837818383913,
           0.008609845894776593,
           0.022262979327305654,
           0.04524872811276712,
           0.07445198330467101,
           0.10398257708063977,
           0.1300801026805732,
           0.1485613596766888,
           0.15395894859679188,
           0.141182285734332,
           0.10834919448845115,
           0.06432746773915317,
           0.022615706242155188,
           -0.0066628737949047424,
           -0.01972380472448786,
           -0.020286380961171756,
           -0.015166142039403547,
           -0.009076533090791426,
           -0.005008036331074395,
           -0.002445746042346985,
           -0.0007410855256972184,
           -0.00012438156925274007,
           -9.525487751226703e-7,
           0,
           0,
           -5.740915537001759e-7,
           -0.00006206182139134937,
           -0.0004799762923246067,
           -0.001440904925702416,
           -0.002294812015756555,
           -0.0026556181673574176,
           -0.0031576495127991415,
           -0.0036596887063838754,
           -0.003967947034646734,
           -0.0037511060604228774,
           -0.0032519935347711895,
           -0.0045180808592796134,
           -0.008115151318859176,
           -0.01431934971052871,
           -0.021918129306024176,
           -0.026709234322258062,
           -0.023354752284790795,
           -0.016042680684207146,
           -0.009750177272169785,
           -0.005482114776263724,
           -0.0032663386544179154,
           -0.0019534049611734192,
           -0.0009703984069767701,
           -0.000301121191370101,
           -0.00004883427769839115,
           -0.00000969931492027765,
           0
          ],
          [
           0,
           0,
           0.0000024678102601041557,
           0.000025450635562710332,
           0.0000814182030377468,
           0.00023323238014686642,
           0.0003736287098893194,
           0.0004899538251824429,
           0.0002964876832883553,
           -0.000917699938517981,
           -0.003287510529183842,
           -0.005166068981689203,
           -0.006223081861169396,
           -0.00630067005157901,
           -0.005144595103493985,
           -0.002282935571232482,
           0.0006591566169782114,
           0.0025255746126128745,
           0.0028537169853396186,
           0.0023901767385814364,
           0.0016689474529871264,
           0.0009355975508384029,
           0.0004449973104001692,
           0.00017333769953955906,
           0.000027217598410639956,
           -0.000003551849529231228,
           -0.000002364881567046752,
           0,
           0,
           0,
           -0.000006901492676281095,
           -0.0001132382628008447,
           -0.00037300825349046086,
           -0.0008581927142216247,
           -0.0017224974392915536,
           -0.0025063992423709934,
           -0.002043627521929301,
           0.001123226668320131,
           0.009491236220843635,
           0.02166469187716129,
           0.03425220132637505,
           0.04159255018713303,
           0.04381408411976091,
           0.04188994262381288,
           0.0363480959535545,
           0.02830190258624105,
           0.019071581634302753,
           0.01183760070695478,
           0.006428996206559211,
           0.002854739162496561,
           0.0011507837273163973,
           0.0004837899115226977,
           0.0001229364576340123,
           0.00001300625604156364,
           0.0000016807939832505663,
           0,
           0,
           0,
           -0.000011910628888860695,
           -0.00005770052568196231,
           0.00007055837595718902,
           0.0008124469418512738,
           0.002923295012944589,
           0.007215605212849921,
           0.01201496242043333,
           0.013803589646024192,
           0.008344122945477416,
           -0.00823576328104217,
           -0.03250914569028124,
           -0.05674423143612693,
           -0.07215521228472405,
           -0.07469824865479054,
           -0.06489506415812549,
           -0.04831185195660122,
           -0.03095860020136501,
           -0.017519533395329523,
           -0.008346980597614016,
           -0.0031686752047561054,
           -0.0010465303506184739,
           -0.0003283677457003898,
           -0.00008208034520392083,
           -0.000009983899235725536,
           -3.6993234635181875e-7,
           0,
           0,
           0,
           0.000026272614054959107,
           0.00020715100961414226,
           0.0009600658995169841,
           0.0029385748397914406,
           0.008380242470733427,
           0.0196294056100265,
           0.037783921245640555,
           0.0608462180448833,
           0.08482342347034606,
           0.10051582723999992,
           0.10208088854942093,
           0.08752702082825783,
           0.06118980921351011,
           0.030664001313018954,
           0.006108757869049831,
           -0.00851342791885356,
           -0.013578197541046886,
           -0.012377720684177192,
           -0.008598823585059317,
           -0.004609356023555551,
           -0.002232375314425033,
           -0.0008890710659653543,
           -0.00020921814586641153,
           -0.000006193803166599026,
           -0.0000028295767934203286,
           0,
           0,
           0,
           0.0000075193669699969335,
           -0.00008474058679811505,
           -0.00024025449399024074,
           -0.0006463502212852638,
           -0.0013241060603865161,
           -0.0019778604219010676,
           -0.0029896861307944643,
           -0.00436421171550363,
           -0.006258722459728202,
           -0.009604066400494046,
           -0.013610401162251729,
           -0.01622605538720381,
           -0.01802497187335669,
           -0.018300984179394193,
           -0.01657460981261538,
           -0.012338638230472928,
           -0.007468570795201584,
           -0.003901400872595116,
           -0.0016113120020931782,
           -0.000314985957473074,
           -0.0000970921595086448,
           0.000026401515495830728,
           0.00002768076072494285,
           -0.000004983379179047889,
           -0.000002894199761801747,
           0
          ],
          [
           0,
           0,
           5.07155769709714e-7,
           -0.000008406667874425054,
           -0.00005763772364007721,
           -0.00018254486956179565,
           -0.000557093115092503,
           -0.0015123740303540547,
           -0.00340679187589762,
           -0.006197936498703146,
           -0.00940652629607251,
           -0.011629785486702767,
           -0.012304921831417346,
           -0.011563090573836926,
           -0.009193810784567566,
           -0.006347925171603628,
           -0.0033320057311128424,
           -0.001221189141247104,
           -0.0000646128831115318,
           0.00046401349730241083,
           0.0005601691511376056,
           0.00029822432229796234,
           0.0001136198126062972,
           0.00006487397464430126,
           0.000013688590930447955,
           -0.000001934934833128726,
           -0.000001731343760602025,
           0,
           0,
           0,
           0.0000024226762233320373,
           0.000007994238546622368,
           0.00006142194609695019,
           0.0004271222394083761,
           0.0015603718652058224,
           0.004130694764625512,
           0.0092513567552717,
           0.016845523679856245,
           0.027095357164006764,
           0.03702868585013624,
           0.043940509427206,
           0.04544455667534529,
           0.04155994424723013,
           0.034658819875393494,
           0.027666254278711715,
           0.019759988991738753,
           0.012489003096140094,
           0.007304638132306782,
           0.0038113176352811604,
           0.0016509545231920698,
           0.0006676852343904573,
           0.0002700476891426143,
           0.00006408741068691525,
           0.000005916848401554566,
           0.000002192881516241175,
           0,
           0,
           0,
           -0.0000011228972940564668,
           0.0000017310209240844866,
           0.0001454260684681081,
           0.000827204486716719,
           0.0025388133685732453,
           0.005555512507341613,
           0.009621339904299456,
           0.012501706508903112,
           0.011940543505018391,
           0.005917137519975205,
           -0.0039919602342122175,
           -0.014053464363780304,
           -0.021476795086520662,
           -0.024579299923139765,
           -0.02313602971350448,
           -0.018527571985902817,
           -0.012623535581670321,
           -0.007474560659849002,
           -0.003664894789758085,
           -0.0015219362252675984,
           -0.0005428078876560896,
           -0.00013003928345202247,
           -0.00001858107282343909,
           -0.0000018898713702319983,
           -4.5849505853004665e-7,
           0,
           0,
           0,
           0.000001243254877168139,
           0.000009360613234573515,
           0.00012974285558990946,
           0.0006046891942636824,
           0.0020759367806893383,
           0.0053043506646769335,
           0.01174607170101964,
           0.020421841437031973,
           0.030454774461766417,
           0.037032031758082215,
           0.03757170902967248,
           0.03180239489537257,
           0.021519214987080818,
           0.01005191604733966,
           0.0007419455655359449,
           -0.004601928206920605,
           -0.006359626956119755,
           -0.005472241809403744,
           -0.0036190144967453396,
           -0.001878141292519395,
           -0.0008169625494042974,
           -0.000311274718420843,
           -0.00006285754707997523,
           -0.000002760943383140219,
           -0.0000030803719225179354,
           0,
           0,
           0,
           6.282513945431618e-7,
           0.00001488072276696379,
           0.00007838640232388692,
           0.00034972048179691744,
           0.0009712406849671937,
           0.0020730624875024074,
           0.003538789391813869,
           0.005227328281239848,
           0.006370974362588348,
           0.006300003330945954,
           0.0053240173637658615,
           0.0035254298446688826,
           0.0013787410013223458,
           -0.0003681880890711125,
           -0.0014125224685918722,
           -0.0013321819988412111,
           -0.0011269498002398565,
           -0.000596125909930529,
           0.000012296007828831954,
           0.00025494428881810436,
           0.00017502047892093865,
           0.000058719673655219964,
           0.00001737512526343593,
           -0.000007839218274847863,
           -0.000003747939060171824,
           0
          ],
          [
           0,
           0,
           0,
           0,
           -0.000018686032461319033,
           -0.0000866277593328608,
           -0.0002875886968269041,
           -0.0007356587045292693,
           -0.0015619936013307383,
           -0.0026124154024754786,
           -0.0037842890141480956,
           -0.004827723522125173,
           -0.005128648474183948,
           -0.004659951419883993,
           -0.003561430361051714,
           -0.002243176480596069,
           -0.001253615757470427,
           -0.0006501618881135654,
           -0.00021198097868991187,
           0.000033120968325699275,
           0.00011387723531127014,
           0.0000392151282265521,
           0.0000044196883739282146,
           5.976743746042121e-7,
           1.3455689329601789e-7,
           -8.268161322264906e-7,
           0,
           0,
           0,
           0,
           0,
           0,
           0.000026137475658526653,
           0.00024661863477190056,
           0.0010152639903526408,
           0.002487523349825868,
           0.005217608929061979,
           0.008534083897134411,
           0.012902134886613383,
           0.017494688108421745,
           0.019888390750274848,
           0.019784575215339686,
           0.01768430659510939,
           0.01393851973432648,
           0.010692240719702796,
           0.0072602762031645,
           0.0043336146712318925,
           0.0025222863838322836,
           0.0013360548621218135,
           0.0004935001318186338,
           0.00015488381960069645,
           0.00004194102292379248,
           0.0000020741413888020686,
           0.00000190228963654208,
           0,
           0,
           0,
           0,
           0,
           0,
           0.00005440124099745709,
           0.0003546529318784139,
           0.0012249182387760952,
           0.0025957664994493124,
           0.004310713475243716,
           0.005031566556626039,
           0.004343946143832911,
           0.0020611492931900616,
           -0.001765862362016197,
           -0.0057303189698795125,
           -0.008351833230296027,
           -0.008954382331214145,
           -0.008022346647377436,
           -0.0061676500931717735,
           -0.004074686368363214,
           -0.0024197311077106126,
           -0.0011887558444993159,
           -0.00045718881654265855,
           -0.0001351867924772267,
           -0.000014777457571856723,
           8.093835508738616e-8,
           0.0000034622761411088023,
           0,
           0,
           0,
           0,
           0,
           0,
           0.00001618964386265244,
           0.0001707634938242824,
           0.0007298030635499627,
           0.0018874102757768917,
           0.004140463132437854,
           0.007054515226654003,
           0.010457859418587817,
           0.013290486918343617,
           0.013497144294553433,
           0.011221909922288975,
           0.007472865717741096,
           0.0032344495286640617,
           0.00044191112168439885,
           -0.0011424799911125987,
           -0.0016501145906216578,
           -0.0014868049520149892,
           -0.0010358822549863215,
           -0.00046723219983364447,
           -0.00013912575830766472,
           -0.000029697873468738453,
           4.29933711367075e-7,
           0.0000014146643512707189,
           0,
           0,
           0,
           0,
           0,
           0,
           0.000024191892790032447,
           0.0002455106078160723,
           0.0009631865271823767,
           0.00207634340046339,
           0.003816396587882686,
           0.005382915764875118,
           0.00685531510102399,
           0.007874162435694824,
           0.007790226343678231,
           0.007074694136465527,
           0.0061645289674662485,
           0.0049293786031796,
           0.003640218139301454,
           0.002641029590162046,
           0.0016380031229577912,
           0.000862278890662734,
           0.000472193086104604,
           0.0003495286735354973,
           0.00016071169993630462,
           0.00003571385382101667,
           -9.152482207872586e-8,
           0.0000023134752258880045,
           0,
           0
          ],
          [
           0,
           0,
           0,
           0,
           -5.146086239514299e-7,
           -0.000005514770724406826,
           -0.000018768655435729112,
           -0.000050221434713168734,
           -0.00006865267835705642,
           -0.00010501287741898105,
           -0.00023695240226940072,
           -0.0003008912467130157,
           -0.0002707705926009928,
           -0.0002472411755894651,
           -0.00020485812959524186,
           -0.000155106511743177,
           -0.00008843529781504039,
           -0.00004730648436107771,
           -0.00001879245123000967,
           1.9661692909512521e-7,
           -0.000004103026212871433,
           -7.26473574244345e-7,
           -0.0000012415062252530883,
           1.667896504625677e-8,
           0,
           0,
           0,
           0,
           0,
           0,
           0,
           0,
           0.000002714665742545193,
           0.00002856006243241898,
           0.00008130636079810482,
           0.00021245827980392423,
           0.00036678844307372875,
           0.0005516578730892332,
           0.000904652251299232,
           0.0013222717372218628,
           0.001630561918206056,
           0.00179300893504211,
           0.0020579575288394644,
           0.0018192562809515248,
           0.001427419681726441,
           0.0008826321118328302,
           0.00045149033699911105,
           0.00020816252587857508,
           0.00007923002580559648,
           0.000026043242655055308,
           0.000017573232376540417,
           0.0000012513677152960637,
           0,
           0,
           0,
           0,
           0,
           0,
           0,
           0,
           0.0000018852697992886447,
           0.000020543125004975527,
           0.00006196751390605069,
           0.00015079998193926296,
           0.00019303473985771778,
           0.00016825088430700108,
           0.0001107845664454487,
           -0.000010947751101114004,
           -0.0003089503805679906,
           -0.0006778801137454996,
           -0.0011380576063958086,
           -0.0012962431710068943,
           -0.0011853484637445314,
           -0.0008592603023652463,
           -0.0004690086464682284,
           -0.00023876678982789591,
           -0.00009292680926986516,
           -0.000031489753785723,
           -0.000015709022867726218,
           -0.0000015143036761370394,
           0,
           0,
           0,
           0,
           0,
           0,
           0,
           0,
           9.710664972345384e-7,
           0.000011698247439140382,
           0.00003227393385661624,
           0.00009050412233375779,
           0.00017541795424776783,
           0.0002941544348509598,
           0.00046050048062429923,
           0.0006799787244332392,
           0.0007392091243471293,
           0.0006564160214052137,
           0.00043576570172509346,
           0.00012104490714164415,
           -0.00015887846633014146,
           -0.0003023287288496255,
           -0.00023382708092531,
           -0.00012650529787311057,
           -0.00005810147715348135,
           -0.000031826969936183504,
           -0.00003237423828061859,
           -0.0000034234060151088035,
           0,
           0,
           0,
           0,
           0,
           0,
           0,
           0,
           0.0000030619048690600432,
           0.000039648727026494255,
           0.00012186301094467245,
           0.0002901547945164599,
           0.00044452572038310677,
           0.0005543331487914821,
           0.0008312515428905713,
           0.0011521619676258662,
           0.0014377195071257256,
           0.0015518179639178768,
           0.0017720678891207427,
           0.0015722825387353978,
           0.0013589568541174544,
           0.0010313819683742172,
           0.000575361529135138,
           0.0002657951568787461,
           0.0001110652302078944,
           0.0000527456857147982,
           0.00005653318104512205,
           0.000007295858072831561,
           0,
           0,
           0,
           0
          ]
         ]
        }
       ],
       "layout": {
        "coloraxis": {
         "colorscale": [
          [
           0,
           "rgb(0, 0, 0)"
          ],
          [
           0.09090909090909091,
           "rgb(16, 16, 16)"
          ],
          [
           0.18181818181818182,
           "rgb(38, 38, 38)"
          ],
          [
           0.2727272727272727,
           "rgb(59, 59, 59)"
          ],
          [
           0.36363636363636365,
           "rgb(81, 80, 80)"
          ],
          [
           0.45454545454545453,
           "rgb(102, 101, 101)"
          ],
          [
           0.5454545454545454,
           "rgb(124, 123, 122)"
          ],
          [
           0.6363636363636364,
           "rgb(146, 146, 145)"
          ],
          [
           0.7272727272727273,
           "rgb(171, 171, 170)"
          ],
          [
           0.8181818181818182,
           "rgb(197, 197, 195)"
          ],
          [
           0.9090909090909091,
           "rgb(224, 224, 223)"
          ],
          [
           1,
           "rgb(254, 254, 253)"
          ]
         ]
        },
        "template": {
         "data": {
          "bar": [
           {
            "error_x": {
             "color": "#2a3f5f"
            },
            "error_y": {
             "color": "#2a3f5f"
            },
            "marker": {
             "line": {
              "color": "#E5ECF6",
              "width": 0.5
             },
             "pattern": {
              "fillmode": "overlay",
              "size": 10,
              "solidity": 0.2
             }
            },
            "type": "bar"
           }
          ],
          "barpolar": [
           {
            "marker": {
             "line": {
              "color": "#E5ECF6",
              "width": 0.5
             },
             "pattern": {
              "fillmode": "overlay",
              "size": 10,
              "solidity": 0.2
             }
            },
            "type": "barpolar"
           }
          ],
          "carpet": [
           {
            "aaxis": {
             "endlinecolor": "#2a3f5f",
             "gridcolor": "white",
             "linecolor": "white",
             "minorgridcolor": "white",
             "startlinecolor": "#2a3f5f"
            },
            "baxis": {
             "endlinecolor": "#2a3f5f",
             "gridcolor": "white",
             "linecolor": "white",
             "minorgridcolor": "white",
             "startlinecolor": "#2a3f5f"
            },
            "type": "carpet"
           }
          ],
          "choropleth": [
           {
            "colorbar": {
             "outlinewidth": 0,
             "ticks": ""
            },
            "type": "choropleth"
           }
          ],
          "contour": [
           {
            "colorbar": {
             "outlinewidth": 0,
             "ticks": ""
            },
            "colorscale": [
             [
              0,
              "#0d0887"
             ],
             [
              0.1111111111111111,
              "#46039f"
             ],
             [
              0.2222222222222222,
              "#7201a8"
             ],
             [
              0.3333333333333333,
              "#9c179e"
             ],
             [
              0.4444444444444444,
              "#bd3786"
             ],
             [
              0.5555555555555556,
              "#d8576b"
             ],
             [
              0.6666666666666666,
              "#ed7953"
             ],
             [
              0.7777777777777778,
              "#fb9f3a"
             ],
             [
              0.8888888888888888,
              "#fdca26"
             ],
             [
              1,
              "#f0f921"
             ]
            ],
            "type": "contour"
           }
          ],
          "contourcarpet": [
           {
            "colorbar": {
             "outlinewidth": 0,
             "ticks": ""
            },
            "type": "contourcarpet"
           }
          ],
          "heatmap": [
           {
            "colorbar": {
             "outlinewidth": 0,
             "ticks": ""
            },
            "colorscale": [
             [
              0,
              "#0d0887"
             ],
             [
              0.1111111111111111,
              "#46039f"
             ],
             [
              0.2222222222222222,
              "#7201a8"
             ],
             [
              0.3333333333333333,
              "#9c179e"
             ],
             [
              0.4444444444444444,
              "#bd3786"
             ],
             [
              0.5555555555555556,
              "#d8576b"
             ],
             [
              0.6666666666666666,
              "#ed7953"
             ],
             [
              0.7777777777777778,
              "#fb9f3a"
             ],
             [
              0.8888888888888888,
              "#fdca26"
             ],
             [
              1,
              "#f0f921"
             ]
            ],
            "type": "heatmap"
           }
          ],
          "heatmapgl": [
           {
            "colorbar": {
             "outlinewidth": 0,
             "ticks": ""
            },
            "colorscale": [
             [
              0,
              "#0d0887"
             ],
             [
              0.1111111111111111,
              "#46039f"
             ],
             [
              0.2222222222222222,
              "#7201a8"
             ],
             [
              0.3333333333333333,
              "#9c179e"
             ],
             [
              0.4444444444444444,
              "#bd3786"
             ],
             [
              0.5555555555555556,
              "#d8576b"
             ],
             [
              0.6666666666666666,
              "#ed7953"
             ],
             [
              0.7777777777777778,
              "#fb9f3a"
             ],
             [
              0.8888888888888888,
              "#fdca26"
             ],
             [
              1,
              "#f0f921"
             ]
            ],
            "type": "heatmapgl"
           }
          ],
          "histogram": [
           {
            "marker": {
             "pattern": {
              "fillmode": "overlay",
              "size": 10,
              "solidity": 0.2
             }
            },
            "type": "histogram"
           }
          ],
          "histogram2d": [
           {
            "colorbar": {
             "outlinewidth": 0,
             "ticks": ""
            },
            "colorscale": [
             [
              0,
              "#0d0887"
             ],
             [
              0.1111111111111111,
              "#46039f"
             ],
             [
              0.2222222222222222,
              "#7201a8"
             ],
             [
              0.3333333333333333,
              "#9c179e"
             ],
             [
              0.4444444444444444,
              "#bd3786"
             ],
             [
              0.5555555555555556,
              "#d8576b"
             ],
             [
              0.6666666666666666,
              "#ed7953"
             ],
             [
              0.7777777777777778,
              "#fb9f3a"
             ],
             [
              0.8888888888888888,
              "#fdca26"
             ],
             [
              1,
              "#f0f921"
             ]
            ],
            "type": "histogram2d"
           }
          ],
          "histogram2dcontour": [
           {
            "colorbar": {
             "outlinewidth": 0,
             "ticks": ""
            },
            "colorscale": [
             [
              0,
              "#0d0887"
             ],
             [
              0.1111111111111111,
              "#46039f"
             ],
             [
              0.2222222222222222,
              "#7201a8"
             ],
             [
              0.3333333333333333,
              "#9c179e"
             ],
             [
              0.4444444444444444,
              "#bd3786"
             ],
             [
              0.5555555555555556,
              "#d8576b"
             ],
             [
              0.6666666666666666,
              "#ed7953"
             ],
             [
              0.7777777777777778,
              "#fb9f3a"
             ],
             [
              0.8888888888888888,
              "#fdca26"
             ],
             [
              1,
              "#f0f921"
             ]
            ],
            "type": "histogram2dcontour"
           }
          ],
          "mesh3d": [
           {
            "colorbar": {
             "outlinewidth": 0,
             "ticks": ""
            },
            "type": "mesh3d"
           }
          ],
          "parcoords": [
           {
            "line": {
             "colorbar": {
              "outlinewidth": 0,
              "ticks": ""
             }
            },
            "type": "parcoords"
           }
          ],
          "pie": [
           {
            "automargin": true,
            "type": "pie"
           }
          ],
          "scatter": [
           {
            "fillpattern": {
             "fillmode": "overlay",
             "size": 10,
             "solidity": 0.2
            },
            "type": "scatter"
           }
          ],
          "scatter3d": [
           {
            "line": {
             "colorbar": {
              "outlinewidth": 0,
              "ticks": ""
             }
            },
            "marker": {
             "colorbar": {
              "outlinewidth": 0,
              "ticks": ""
             }
            },
            "type": "scatter3d"
           }
          ],
          "scattercarpet": [
           {
            "marker": {
             "colorbar": {
              "outlinewidth": 0,
              "ticks": ""
             }
            },
            "type": "scattercarpet"
           }
          ],
          "scattergeo": [
           {
            "marker": {
             "colorbar": {
              "outlinewidth": 0,
              "ticks": ""
             }
            },
            "type": "scattergeo"
           }
          ],
          "scattergl": [
           {
            "marker": {
             "colorbar": {
              "outlinewidth": 0,
              "ticks": ""
             }
            },
            "type": "scattergl"
           }
          ],
          "scattermapbox": [
           {
            "marker": {
             "colorbar": {
              "outlinewidth": 0,
              "ticks": ""
             }
            },
            "type": "scattermapbox"
           }
          ],
          "scatterpolar": [
           {
            "marker": {
             "colorbar": {
              "outlinewidth": 0,
              "ticks": ""
             }
            },
            "type": "scatterpolar"
           }
          ],
          "scatterpolargl": [
           {
            "marker": {
             "colorbar": {
              "outlinewidth": 0,
              "ticks": ""
             }
            },
            "type": "scatterpolargl"
           }
          ],
          "scatterternary": [
           {
            "marker": {
             "colorbar": {
              "outlinewidth": 0,
              "ticks": ""
             }
            },
            "type": "scatterternary"
           }
          ],
          "surface": [
           {
            "colorbar": {
             "outlinewidth": 0,
             "ticks": ""
            },
            "colorscale": [
             [
              0,
              "#0d0887"
             ],
             [
              0.1111111111111111,
              "#46039f"
             ],
             [
              0.2222222222222222,
              "#7201a8"
             ],
             [
              0.3333333333333333,
              "#9c179e"
             ],
             [
              0.4444444444444444,
              "#bd3786"
             ],
             [
              0.5555555555555556,
              "#d8576b"
             ],
             [
              0.6666666666666666,
              "#ed7953"
             ],
             [
              0.7777777777777778,
              "#fb9f3a"
             ],
             [
              0.8888888888888888,
              "#fdca26"
             ],
             [
              1,
              "#f0f921"
             ]
            ],
            "type": "surface"
           }
          ],
          "table": [
           {
            "cells": {
             "fill": {
              "color": "#EBF0F8"
             },
             "line": {
              "color": "white"
             }
            },
            "header": {
             "fill": {
              "color": "#C8D4E3"
             },
             "line": {
              "color": "white"
             }
            },
            "type": "table"
           }
          ]
         },
         "layout": {
          "annotationdefaults": {
           "arrowcolor": "#2a3f5f",
           "arrowhead": 0,
           "arrowwidth": 1
          },
          "autotypenumbers": "strict",
          "coloraxis": {
           "colorbar": {
            "outlinewidth": 0,
            "ticks": ""
           }
          },
          "colorscale": {
           "diverging": [
            [
             0,
             "#8e0152"
            ],
            [
             0.1,
             "#c51b7d"
            ],
            [
             0.2,
             "#de77ae"
            ],
            [
             0.3,
             "#f1b6da"
            ],
            [
             0.4,
             "#fde0ef"
            ],
            [
             0.5,
             "#f7f7f7"
            ],
            [
             0.6,
             "#e6f5d0"
            ],
            [
             0.7,
             "#b8e186"
            ],
            [
             0.8,
             "#7fbc41"
            ],
            [
             0.9,
             "#4d9221"
            ],
            [
             1,
             "#276419"
            ]
           ],
           "sequential": [
            [
             0,
             "#0d0887"
            ],
            [
             0.1111111111111111,
             "#46039f"
            ],
            [
             0.2222222222222222,
             "#7201a8"
            ],
            [
             0.3333333333333333,
             "#9c179e"
            ],
            [
             0.4444444444444444,
             "#bd3786"
            ],
            [
             0.5555555555555556,
             "#d8576b"
            ],
            [
             0.6666666666666666,
             "#ed7953"
            ],
            [
             0.7777777777777778,
             "#fb9f3a"
            ],
            [
             0.8888888888888888,
             "#fdca26"
            ],
            [
             1,
             "#f0f921"
            ]
           ],
           "sequentialminus": [
            [
             0,
             "#0d0887"
            ],
            [
             0.1111111111111111,
             "#46039f"
            ],
            [
             0.2222222222222222,
             "#7201a8"
            ],
            [
             0.3333333333333333,
             "#9c179e"
            ],
            [
             0.4444444444444444,
             "#bd3786"
            ],
            [
             0.5555555555555556,
             "#d8576b"
            ],
            [
             0.6666666666666666,
             "#ed7953"
            ],
            [
             0.7777777777777778,
             "#fb9f3a"
            ],
            [
             0.8888888888888888,
             "#fdca26"
            ],
            [
             1,
             "#f0f921"
            ]
           ]
          },
          "colorway": [
           "#636efa",
           "#EF553B",
           "#00cc96",
           "#ab63fa",
           "#FFA15A",
           "#19d3f3",
           "#FF6692",
           "#B6E880",
           "#FF97FF",
           "#FECB52"
          ],
          "font": {
           "color": "#2a3f5f"
          },
          "geo": {
           "bgcolor": "white",
           "lakecolor": "white",
           "landcolor": "#E5ECF6",
           "showlakes": true,
           "showland": true,
           "subunitcolor": "white"
          },
          "hoverlabel": {
           "align": "left"
          },
          "hovermode": "closest",
          "mapbox": {
           "style": "light"
          },
          "paper_bgcolor": "white",
          "plot_bgcolor": "#E5ECF6",
          "polar": {
           "angularaxis": {
            "gridcolor": "white",
            "linecolor": "white",
            "ticks": ""
           },
           "bgcolor": "#E5ECF6",
           "radialaxis": {
            "gridcolor": "white",
            "linecolor": "white",
            "ticks": ""
           }
          },
          "scene": {
           "xaxis": {
            "backgroundcolor": "#E5ECF6",
            "gridcolor": "white",
            "gridwidth": 2,
            "linecolor": "white",
            "showbackground": true,
            "ticks": "",
            "zerolinecolor": "white"
           },
           "yaxis": {
            "backgroundcolor": "#E5ECF6",
            "gridcolor": "white",
            "gridwidth": 2,
            "linecolor": "white",
            "showbackground": true,
            "ticks": "",
            "zerolinecolor": "white"
           },
           "zaxis": {
            "backgroundcolor": "#E5ECF6",
            "gridcolor": "white",
            "gridwidth": 2,
            "linecolor": "white",
            "showbackground": true,
            "ticks": "",
            "zerolinecolor": "white"
           }
          },
          "shapedefaults": {
           "line": {
            "color": "#2a3f5f"
           }
          },
          "ternary": {
           "aaxis": {
            "gridcolor": "white",
            "linecolor": "white",
            "ticks": ""
           },
           "baxis": {
            "gridcolor": "white",
            "linecolor": "white",
            "ticks": ""
           },
           "bgcolor": "#E5ECF6",
           "caxis": {
            "gridcolor": "white",
            "linecolor": "white",
            "ticks": ""
           }
          },
          "title": {
           "x": 0.05
          },
          "xaxis": {
           "automargin": true,
           "gridcolor": "white",
           "linecolor": "white",
           "ticks": "",
           "title": {
            "standoff": 15
           },
           "zerolinecolor": "white",
           "zerolinewidth": 2
          },
          "yaxis": {
           "automargin": true,
           "gridcolor": "white",
           "linecolor": "white",
           "ticks": "",
           "title": {
            "standoff": 15
           },
           "zerolinecolor": "white",
           "zerolinewidth": 2
          }
         }
        },
        "title": {
         "text": "Top 5 Singular Vectors"
        },
        "xaxis": {
         "anchor": "y",
         "constrain": "domain",
         "domain": [
          0,
          1
         ],
         "scaleanchor": "y"
        },
        "yaxis": {
         "anchor": "x",
         "autorange": "reversed",
         "constrain": "domain",
         "domain": [
          0,
          1
         ]
        }
       }
      }
     },
     "metadata": {},
     "output_type": "display_data"
    }
   ],
   "source": [
    "import plotly.graph_objects as go\n",
    "import plotly.express as px\n",
    "\n",
    "def plot_performance(results_df):\n",
    "    \"\"\" Plots the accuracy and training time over number of SVD components with two y-axes\n",
    "    \"\"\"\n",
    "\n",
    "    fig = go.Figure()\n",
    "\n",
    "    # Plot accuracy on the left y-axis\n",
    "    fig.add_trace(go.Scatter(\n",
    "        x=results_df[\"n_components\"], \n",
    "        y=results_df[\"accuracy\"],\n",
    "        mode=\"lines+markers\",\n",
    "        name=\"Accuracy\",\n",
    "        line=dict(color='blue'),\n",
    "        yaxis=\"y1\"  # left side\n",
    "    ))\n",
    "\n",
    "    # Plot training time on the right y-axis\n",
    "    fig.add_trace(go.Scatter(\n",
    "        x=results_df[\"n_components\"], \n",
    "        y=results_df[\"training_time\"],\n",
    "        mode=\"lines+markers\",\n",
    "        name=\"Training Time (seconds)\",\n",
    "        line=dict(color='red', dash='dot'),\n",
    "        yaxis=\"y2\"  # right side\n",
    "    ))\n",
    "\n",
    "    # Update layout for dual y-axis\n",
    "    fig.update_layout(\n",
    "        title=\"Accuracy and Training Time vs Number of SVD Components\",\n",
    "        xaxis_title=\"Number of SVD Components\",        \n",
    "        yaxis=dict(\n",
    "            title=\"Accuracy\",\n",
    "            titlefont=dict(color=\"blue\"),\n",
    "            tickfont=dict(color=\"blue\"),\n",
    "            range=[0, 1]\n",
    "        ),\n",
    "        yaxis2=dict(\n",
    "            title=\"Training Time (seconds)\",  # Right side y-axis\n",
    "            titlefont=dict(color=\"red\"),\n",
    "            tickfont=dict(color=\"red\"),\n",
    "            anchor=\"x\",  # Link this y-axis to the x-axis\n",
    "            overlaying=\"y\",  # Overlay it on top of the left y-axis\n",
    "            side=\"right\",\n",
    "            range=[0, 100],\n",
    "        ),\n",
    "        legend=dict(\n",
    "            orientation=\"h\",\n",
    "            yanchor=\"bottom\",\n",
    "            y=1.02,\n",
    "            xanchor=\"right\",\n",
    "            x=1\n",
    "        )\n",
    "    )\n",
    "\n",
    "    fig.show()\n",
    "\n",
    "plot_performance(results_df)\n",
    "\n",
    "\n",
    "def plot_singular_vectors(singular_vectors):\n",
    "    \"\"\" Visualizes top 5 singular vectors as 28x28 images\n",
    "    \"\"\"\n",
    "    top_5_singular_vectors = singular_vectors[:, :5].T\n",
    "    reshaped_vectors = [vector.reshape(28, 28) for vector in top_5_singular_vectors]\n",
    "    \n",
    "    fig = px.imshow(np.concatenate(reshaped_vectors, axis=1), \n",
    "                    color_continuous_scale='gray', \n",
    "                    title=f\"Top 5 Singular Vectors\")\n",
    "    \n",
    "    fig.show()\n",
    "\n",
    "plot_singular_vectors(top_eigenvectors)"
   ]
  },
  {
   "cell_type": "markdown",
   "id": "4210569a",
   "metadata": {},
   "source": [
    "## Part 6: Analyze / Conclusion \n",
    "\n",
    "YOUR ANSWER: \n",
    "\n",
    "In general, more components led to increased accuracy; however, there were clear diminishing returns, as accuracy plateued at very high number of components. Surprisingly, the model never exhibited overfitting; accuracy monotonically increased all the way up to the top tested value of 217 components even if ever so slightly. Training time was surprisingly noisy, but increased impressively close to linearly when running the below power law fit with a slope of 0.28 seconds per SVD component. Interestingly, using a reasonable ax/(b+x) + c fit suggests accuracy will asymptotically approach almost exactly 0.95 (1.04 - 0.09) for arbitrarily many components, but we achieve 0.92 accuracy in under a minute at 177 components and over 0.82 accuracy in under a second at 12 components, showing the dramatic tradeoff of increasing components and thereby increasing training time."
   ]
  },
  {
   "cell_type": "code",
   "execution_count": 77,
   "id": "eec0df7e",
   "metadata": {},
   "outputs": [
    {
     "name": "stdout",
     "output_type": "stream",
     "text": [
      "acc ~ 1.0440370364490723*x/(1.791869154266387 + x) + -0.09654091866991857\n",
      "time ~ 0.28232614996355965*x**0.99999999999737 + 9.035274860442381e-15\n"
     ]
    },
    {
     "data": {
      "application/vnd.plotly.v1+json": {
       "config": {
        "plotlyServerURL": "https://plot.ly"
       },
       "data": [
        {
         "line": {
          "color": "blue",
          "dash": "solid"
         },
         "mode": "lines+markers",
         "name": "Accuracy",
         "type": "scatter",
         "x": [
          1,
          2,
          3,
          4,
          5,
          6,
          7,
          8,
          9,
          10,
          12,
          14,
          17,
          19,
          23,
          27,
          32,
          39,
          46,
          55,
          67,
          81,
          98,
          119,
          145,
          177,
          217
         ],
         "y": [
          0.3068571428571429,
          0.44835714285714284,
          0.4717857142857143,
          0.5765,
          0.6796428571428571,
          0.7362857142857143,
          0.7618571428571429,
          0.7870714285714285,
          0.7892857142857143,
          0.8035,
          0.8267142857142857,
          0.8397857142857142,
          0.8617142857142858,
          0.8737857142857143,
          0.8857142857142857,
          0.889,
          0.8972142857142857,
          0.9012857142857142,
          0.9062142857142857,
          0.9113571428571429,
          0.9129285714285714,
          0.9157857142857143,
          0.9175714285714286,
          0.9187142857142857,
          0.9199285714285714,
          0.9209285714285714,
          0.9212142857142858
         ],
         "yaxis": "y"
        },
        {
         "line": {
          "color": "blue",
          "dash": "dash"
         },
         "mode": "lines",
         "name": "Accuracy 1/1+x Fit",
         "type": "scatter",
         "x": [
          1,
          3.1818181818181817,
          5.363636363636363,
          7.545454545454545,
          9.727272727272727,
          11.909090909090908,
          14.09090909090909,
          16.272727272727273,
          18.454545454545453,
          20.636363636363633,
          22.818181818181817,
          25,
          27.18181818181818,
          29.36363636363636,
          31.545454545454543,
          33.72727272727273,
          35.90909090909091,
          38.090909090909086,
          40.272727272727266,
          42.45454545454545,
          44.63636363636363,
          46.81818181818181,
          49,
          51.18181818181818,
          53.36363636363636,
          55.54545454545454,
          57.72727272727272,
          59.90909090909091,
          62.090909090909086,
          64.27272727272727,
          66.45454545454545,
          68.63636363636363,
          70.81818181818181,
          73,
          75.18181818181817,
          77.36363636363636,
          79.54545454545453,
          81.72727272727272,
          83.9090909090909,
          86.09090909090908,
          88.27272727272727,
          90.45454545454545,
          92.63636363636363,
          94.81818181818181,
          97,
          99.18181818181817,
          101.36363636363636,
          103.54545454545453,
          105.72727272727272,
          107.9090909090909,
          110.09090909090908,
          112.27272727272727,
          114.45454545454544,
          116.63636363636363,
          118.81818181818181,
          120.99999999999999,
          123.18181818181817,
          125.36363636363636,
          127.54545454545453,
          129.72727272727272,
          131.9090909090909,
          134.0909090909091,
          136.27272727272725,
          138.45454545454544,
          140.63636363636363,
          142.8181818181818,
          145,
          147.18181818181816,
          149.36363636363635,
          151.54545454545453,
          153.72727272727272,
          155.9090909090909,
          158.09090909090907,
          160.27272727272725,
          162.45454545454544,
          164.63636363636363,
          166.8181818181818,
          169,
          171.18181818181816,
          173.36363636363635,
          175.54545454545453,
          177.72727272727272,
          179.9090909090909,
          182.09090909090907,
          184.27272727272725,
          186.45454545454544,
          188.63636363636363,
          190.8181818181818,
          193,
          195.18181818181816,
          197.36363636363635,
          199.54545454545453,
          201.72727272727272,
          203.9090909090909,
          206.09090909090907,
          208.27272727272725,
          210.45454545454544,
          212.63636363636363,
          214.8181818181818,
          217
         ],
         "y": [
          0.27741537324785637,
          0.5713611428377022,
          0.6860501924222124,
          0.7471413028785312,
          0.7850901173354103,
          0.8109525651468015,
          0.8297095610038586,
          0.8439356663134732,
          0.8550956707039187,
          0.8640843849427464,
          0.8714792999505688,
          0.8776697928313523,
          0.882927954955264,
          0.8874496595231711,
          0.891379502709047,
          0.8948265525130764,
          0.8978746291385223,
          0.9005892109928623,
          0.9030221914746029,
          0.9052152283994251,
          0.9072021490218002,
          0.9090107073732868,
          0.9106638886709316,
          0.912180891379,
          0.9135778761828085,
          0.9148685439614054,
          0.9160645866383287,
          0.9171760423767,
          0.9182115779874601,
          0.9191787153775189,
          0.9200840145610129,
          0.9209332226531853,
          0.9217313960020729,
          0.9224830009433368,
          0.9231919974197308,
          0.9238619087713967,
          0.9244958802937001,
          0.925096728616628,
          0.9256669835414305,
          0.9262089236453305,
          0.9267246067110811,
          0.9272158958381908,
          0.9276844819342603,
          0.9281319031586862,
          0.92855956178988,
          0.928968738905705,
          0.9293606072009023,
          0.9297362422116132,
          0.9300966321732703,
          0.9304426867021208,
          0.9307752444609633,
          0.9310950799451035,
          0.9314029095041264,
          0.9316993966980233,
          0.9319851570719723,
          0.9322607624220781,
          0.9325267446142745,
          0.9327835990100676,
          0.9330317875455384,
          0.933271741503875,
          0.9335038640164411,
          0.9337285323228918,
          0.9339460998169892,
          0.9341568979014626,
          0.9343612376723786,
          0.9345594114510355,
          0.9347516941792421,
          0.9349383446919891,
          0.9351196068798985,
          0.9352957107524321,
          0.9354668734116033,
          0.9356332999448603,
          0.9357951842448614,
          0.9359527097630328,
          0.9361060502030644,
          0.9362553701598587,
          0.9364008257088697,
          0.9365425649502715,
          0.9366807285119417,
          0.9368154500148537,
          0.9369468565041134,
          0.9370750688485653,
          0.937200202111606,
          0.937322365895601,
          0.9374416646620675,
          0.9375581980295938,
          0.9376720610512755,
          0.9377833444732976,
          0.9378921349761385,
          0.9379985153997416,
          0.9381025649538887,
          0.9382043594148929,
          0.9383039713096405,
          0.9384014700879201,
          0.9384969222839002,
          0.9385903916675434,
          0.9386819393866811,
          0.9387716241004159,
          0.9388595021044605,
          0.9389456274489775
         ],
         "yaxis": "y"
        },
        {
         "line": {
          "color": "red",
          "dash": "dot"
         },
         "mode": "lines+markers",
         "name": "Training Time (seconds)",
         "type": "scatter",
         "x": [
          1,
          2,
          3,
          4,
          5,
          6,
          7,
          8,
          9,
          10,
          12,
          14,
          17,
          19,
          23,
          27,
          32,
          39,
          46,
          55,
          67,
          81,
          98,
          119,
          145,
          177,
          217
         ],
         "y": [
          0.295076847076416,
          0.43616533279418945,
          0.3563206195831299,
          0.41101646423339844,
          0.4443964958190918,
          0.4625232219696045,
          0.45406031608581543,
          0.5097436904907227,
          0.6631660461425781,
          0.7381820678710938,
          0.7890839576721191,
          1.3784112930297852,
          1.6096382141113281,
          1.6903724670410156,
          2.476372718811035,
          3.331303358078003,
          3.93813157081604,
          5.487882852554321,
          6.653815507888794,
          9.616442203521729,
          11.016707420349121,
          18.197223663330078,
          25.977342128753662,
          36.97931170463562,
          41.091434955596924,
          53.88270902633667,
          67.85390281677246
         ],
         "yaxis": "y2"
        },
        {
         "line": {
          "color": "green",
          "dash": "dot"
         },
         "mode": "lines",
         "name": "Training Time Exp Fit",
         "type": "scatter",
         "x": [
          1,
          3.1818181818181817,
          5.363636363636363,
          7.545454545454545,
          9.727272727272727,
          11.909090909090908,
          14.09090909090909,
          16.272727272727273,
          18.454545454545453,
          20.636363636363633,
          22.818181818181817,
          25,
          27.18181818181818,
          29.36363636363636,
          31.545454545454543,
          33.72727272727273,
          35.90909090909091,
          38.090909090909086,
          40.272727272727266,
          42.45454545454545,
          44.63636363636363,
          46.81818181818181,
          49,
          51.18181818181818,
          53.36363636363636,
          55.54545454545454,
          57.72727272727272,
          59.90909090909091,
          62.090909090909086,
          64.27272727272727,
          66.45454545454545,
          68.63636363636363,
          70.81818181818181,
          73,
          75.18181818181817,
          77.36363636363636,
          79.54545454545453,
          81.72727272727272,
          83.9090909090909,
          86.09090909090908,
          88.27272727272727,
          90.45454545454545,
          92.63636363636363,
          94.81818181818181,
          97,
          99.18181818181817,
          101.36363636363636,
          103.54545454545453,
          105.72727272727272,
          107.9090909090909,
          110.09090909090908,
          112.27272727272727,
          114.45454545454544,
          116.63636363636363,
          118.81818181818181,
          120.99999999999999,
          123.18181818181817,
          125.36363636363636,
          127.54545454545453,
          129.72727272727272,
          131.9090909090909,
          134.0909090909091,
          136.27272727272725,
          138.45454545454544,
          140.63636363636363,
          142.8181818181818,
          145,
          147.18181818181816,
          149.36363636363635,
          151.54545454545453,
          153.72727272727272,
          155.9090909090909,
          158.09090909090907,
          160.27272727272725,
          162.45454545454544,
          164.63636363636363,
          166.8181818181818,
          169,
          171.18181818181816,
          173.36363636363635,
          175.54545454545453,
          177.72727272727272,
          179.9090909090909,
          182.09090909090907,
          184.27272727272725,
          186.45454545454544,
          188.63636363636363,
          190.8181818181818,
          193,
          195.18181818181816,
          197.36363636363635,
          199.54545454545453,
          201.72727272727272,
          203.9090909090909,
          206.09090909090907,
          208.27272727272725,
          210.45454545454544,
          212.63636363636363,
          214.8181818181818,
          217
         ],
         "y": [
          0.2823261499635687,
          0.8983104771540551,
          1.5142948043433213,
          2.1302791315319087,
          2.7462634587200214,
          3.3622477859077673,
          3.978232113095215,
          4.594216440282412,
          5.210200767469388,
          5.826185094656174,
          6.442169421842789,
          7.058153749029248,
          7.674138076215565,
          8.290122403401751,
          8.906106730587819,
          9.522091057773775,
          10.138075384959624,
          10.754059712145375,
          11.370044039331033,
          11.986028366516607,
          12.602012693702092,
          13.2179970208875,
          13.833981348072832,
          14.449965675258094,
          15.065950002443286,
          15.68193432962841,
          16.297918656813472,
          16.913902983998472,
          17.529887311183415,
          18.1458716383683,
          18.761855965553128,
          19.3778402927379,
          19.993824619922627,
          20.609808947107304,
          21.225793274291927,
          21.841777601476508,
          22.457761928661043,
          23.073746255845528,
          23.689730583029977,
          24.30571491021438,
          24.921699237398744,
          25.53768356458307,
          26.15366789176735,
          26.769652218951595,
          27.385636546135807,
          28.001620873319975,
          28.617605200504112,
          29.233589527688213,
          29.84957385487228,
          30.465558182056313,
          31.081542509240315,
          31.697526836424284,
          32.31351116360821,
          32.92949549079212,
          33.545479817976,
          34.16146414515984,
          34.777448472343664,
          35.39343279952745,
          36.009417126711206,
          36.625401453894945,
          37.24138578107865,
          37.85737010826233,
          38.47335443544598,
          39.0893387626296,
          39.7053230898132,
          40.32130741699678,
          40.937291744180335,
          41.553276071363854,
          42.16926039854736,
          42.78524472573084,
          43.401229052914296,
          44.01721338009773,
          44.633197707281134,
          45.249182034464525,
          45.86516636164789,
          46.48115068883123,
          47.097135016014555,
          47.71311934319785,
          48.32910367038113,
          48.94508799756439,
          49.561072324747634,
          50.17705665193085,
          50.79304097911405,
          51.409025306297224,
          52.02500963348039,
          52.64099396066353,
          53.25697828784665,
          53.872962615029756,
          54.48894694221284,
          55.104931269395905,
          55.720915596578955,
          56.33689992376198,
          56.952884250945,
          57.56886857812799,
          58.18485290531096,
          58.800837232493926,
          59.41682155967687,
          60.0328058868598,
          60.64879021404271,
          61.264774541225606
         ],
         "yaxis": "y2"
        }
       ],
       "layout": {
        "legend": {
         "orientation": "h",
         "x": 1,
         "xanchor": "right",
         "y": 1.02,
         "yanchor": "bottom"
        },
        "template": {
         "data": {
          "bar": [
           {
            "error_x": {
             "color": "#2a3f5f"
            },
            "error_y": {
             "color": "#2a3f5f"
            },
            "marker": {
             "line": {
              "color": "#E5ECF6",
              "width": 0.5
             },
             "pattern": {
              "fillmode": "overlay",
              "size": 10,
              "solidity": 0.2
             }
            },
            "type": "bar"
           }
          ],
          "barpolar": [
           {
            "marker": {
             "line": {
              "color": "#E5ECF6",
              "width": 0.5
             },
             "pattern": {
              "fillmode": "overlay",
              "size": 10,
              "solidity": 0.2
             }
            },
            "type": "barpolar"
           }
          ],
          "carpet": [
           {
            "aaxis": {
             "endlinecolor": "#2a3f5f",
             "gridcolor": "white",
             "linecolor": "white",
             "minorgridcolor": "white",
             "startlinecolor": "#2a3f5f"
            },
            "baxis": {
             "endlinecolor": "#2a3f5f",
             "gridcolor": "white",
             "linecolor": "white",
             "minorgridcolor": "white",
             "startlinecolor": "#2a3f5f"
            },
            "type": "carpet"
           }
          ],
          "choropleth": [
           {
            "colorbar": {
             "outlinewidth": 0,
             "ticks": ""
            },
            "type": "choropleth"
           }
          ],
          "contour": [
           {
            "colorbar": {
             "outlinewidth": 0,
             "ticks": ""
            },
            "colorscale": [
             [
              0,
              "#0d0887"
             ],
             [
              0.1111111111111111,
              "#46039f"
             ],
             [
              0.2222222222222222,
              "#7201a8"
             ],
             [
              0.3333333333333333,
              "#9c179e"
             ],
             [
              0.4444444444444444,
              "#bd3786"
             ],
             [
              0.5555555555555556,
              "#d8576b"
             ],
             [
              0.6666666666666666,
              "#ed7953"
             ],
             [
              0.7777777777777778,
              "#fb9f3a"
             ],
             [
              0.8888888888888888,
              "#fdca26"
             ],
             [
              1,
              "#f0f921"
             ]
            ],
            "type": "contour"
           }
          ],
          "contourcarpet": [
           {
            "colorbar": {
             "outlinewidth": 0,
             "ticks": ""
            },
            "type": "contourcarpet"
           }
          ],
          "heatmap": [
           {
            "colorbar": {
             "outlinewidth": 0,
             "ticks": ""
            },
            "colorscale": [
             [
              0,
              "#0d0887"
             ],
             [
              0.1111111111111111,
              "#46039f"
             ],
             [
              0.2222222222222222,
              "#7201a8"
             ],
             [
              0.3333333333333333,
              "#9c179e"
             ],
             [
              0.4444444444444444,
              "#bd3786"
             ],
             [
              0.5555555555555556,
              "#d8576b"
             ],
             [
              0.6666666666666666,
              "#ed7953"
             ],
             [
              0.7777777777777778,
              "#fb9f3a"
             ],
             [
              0.8888888888888888,
              "#fdca26"
             ],
             [
              1,
              "#f0f921"
             ]
            ],
            "type": "heatmap"
           }
          ],
          "heatmapgl": [
           {
            "colorbar": {
             "outlinewidth": 0,
             "ticks": ""
            },
            "colorscale": [
             [
              0,
              "#0d0887"
             ],
             [
              0.1111111111111111,
              "#46039f"
             ],
             [
              0.2222222222222222,
              "#7201a8"
             ],
             [
              0.3333333333333333,
              "#9c179e"
             ],
             [
              0.4444444444444444,
              "#bd3786"
             ],
             [
              0.5555555555555556,
              "#d8576b"
             ],
             [
              0.6666666666666666,
              "#ed7953"
             ],
             [
              0.7777777777777778,
              "#fb9f3a"
             ],
             [
              0.8888888888888888,
              "#fdca26"
             ],
             [
              1,
              "#f0f921"
             ]
            ],
            "type": "heatmapgl"
           }
          ],
          "histogram": [
           {
            "marker": {
             "pattern": {
              "fillmode": "overlay",
              "size": 10,
              "solidity": 0.2
             }
            },
            "type": "histogram"
           }
          ],
          "histogram2d": [
           {
            "colorbar": {
             "outlinewidth": 0,
             "ticks": ""
            },
            "colorscale": [
             [
              0,
              "#0d0887"
             ],
             [
              0.1111111111111111,
              "#46039f"
             ],
             [
              0.2222222222222222,
              "#7201a8"
             ],
             [
              0.3333333333333333,
              "#9c179e"
             ],
             [
              0.4444444444444444,
              "#bd3786"
             ],
             [
              0.5555555555555556,
              "#d8576b"
             ],
             [
              0.6666666666666666,
              "#ed7953"
             ],
             [
              0.7777777777777778,
              "#fb9f3a"
             ],
             [
              0.8888888888888888,
              "#fdca26"
             ],
             [
              1,
              "#f0f921"
             ]
            ],
            "type": "histogram2d"
           }
          ],
          "histogram2dcontour": [
           {
            "colorbar": {
             "outlinewidth": 0,
             "ticks": ""
            },
            "colorscale": [
             [
              0,
              "#0d0887"
             ],
             [
              0.1111111111111111,
              "#46039f"
             ],
             [
              0.2222222222222222,
              "#7201a8"
             ],
             [
              0.3333333333333333,
              "#9c179e"
             ],
             [
              0.4444444444444444,
              "#bd3786"
             ],
             [
              0.5555555555555556,
              "#d8576b"
             ],
             [
              0.6666666666666666,
              "#ed7953"
             ],
             [
              0.7777777777777778,
              "#fb9f3a"
             ],
             [
              0.8888888888888888,
              "#fdca26"
             ],
             [
              1,
              "#f0f921"
             ]
            ],
            "type": "histogram2dcontour"
           }
          ],
          "mesh3d": [
           {
            "colorbar": {
             "outlinewidth": 0,
             "ticks": ""
            },
            "type": "mesh3d"
           }
          ],
          "parcoords": [
           {
            "line": {
             "colorbar": {
              "outlinewidth": 0,
              "ticks": ""
             }
            },
            "type": "parcoords"
           }
          ],
          "pie": [
           {
            "automargin": true,
            "type": "pie"
           }
          ],
          "scatter": [
           {
            "fillpattern": {
             "fillmode": "overlay",
             "size": 10,
             "solidity": 0.2
            },
            "type": "scatter"
           }
          ],
          "scatter3d": [
           {
            "line": {
             "colorbar": {
              "outlinewidth": 0,
              "ticks": ""
             }
            },
            "marker": {
             "colorbar": {
              "outlinewidth": 0,
              "ticks": ""
             }
            },
            "type": "scatter3d"
           }
          ],
          "scattercarpet": [
           {
            "marker": {
             "colorbar": {
              "outlinewidth": 0,
              "ticks": ""
             }
            },
            "type": "scattercarpet"
           }
          ],
          "scattergeo": [
           {
            "marker": {
             "colorbar": {
              "outlinewidth": 0,
              "ticks": ""
             }
            },
            "type": "scattergeo"
           }
          ],
          "scattergl": [
           {
            "marker": {
             "colorbar": {
              "outlinewidth": 0,
              "ticks": ""
             }
            },
            "type": "scattergl"
           }
          ],
          "scattermapbox": [
           {
            "marker": {
             "colorbar": {
              "outlinewidth": 0,
              "ticks": ""
             }
            },
            "type": "scattermapbox"
           }
          ],
          "scatterpolar": [
           {
            "marker": {
             "colorbar": {
              "outlinewidth": 0,
              "ticks": ""
             }
            },
            "type": "scatterpolar"
           }
          ],
          "scatterpolargl": [
           {
            "marker": {
             "colorbar": {
              "outlinewidth": 0,
              "ticks": ""
             }
            },
            "type": "scatterpolargl"
           }
          ],
          "scatterternary": [
           {
            "marker": {
             "colorbar": {
              "outlinewidth": 0,
              "ticks": ""
             }
            },
            "type": "scatterternary"
           }
          ],
          "surface": [
           {
            "colorbar": {
             "outlinewidth": 0,
             "ticks": ""
            },
            "colorscale": [
             [
              0,
              "#0d0887"
             ],
             [
              0.1111111111111111,
              "#46039f"
             ],
             [
              0.2222222222222222,
              "#7201a8"
             ],
             [
              0.3333333333333333,
              "#9c179e"
             ],
             [
              0.4444444444444444,
              "#bd3786"
             ],
             [
              0.5555555555555556,
              "#d8576b"
             ],
             [
              0.6666666666666666,
              "#ed7953"
             ],
             [
              0.7777777777777778,
              "#fb9f3a"
             ],
             [
              0.8888888888888888,
              "#fdca26"
             ],
             [
              1,
              "#f0f921"
             ]
            ],
            "type": "surface"
           }
          ],
          "table": [
           {
            "cells": {
             "fill": {
              "color": "#EBF0F8"
             },
             "line": {
              "color": "white"
             }
            },
            "header": {
             "fill": {
              "color": "#C8D4E3"
             },
             "line": {
              "color": "white"
             }
            },
            "type": "table"
           }
          ]
         },
         "layout": {
          "annotationdefaults": {
           "arrowcolor": "#2a3f5f",
           "arrowhead": 0,
           "arrowwidth": 1
          },
          "autotypenumbers": "strict",
          "coloraxis": {
           "colorbar": {
            "outlinewidth": 0,
            "ticks": ""
           }
          },
          "colorscale": {
           "diverging": [
            [
             0,
             "#8e0152"
            ],
            [
             0.1,
             "#c51b7d"
            ],
            [
             0.2,
             "#de77ae"
            ],
            [
             0.3,
             "#f1b6da"
            ],
            [
             0.4,
             "#fde0ef"
            ],
            [
             0.5,
             "#f7f7f7"
            ],
            [
             0.6,
             "#e6f5d0"
            ],
            [
             0.7,
             "#b8e186"
            ],
            [
             0.8,
             "#7fbc41"
            ],
            [
             0.9,
             "#4d9221"
            ],
            [
             1,
             "#276419"
            ]
           ],
           "sequential": [
            [
             0,
             "#0d0887"
            ],
            [
             0.1111111111111111,
             "#46039f"
            ],
            [
             0.2222222222222222,
             "#7201a8"
            ],
            [
             0.3333333333333333,
             "#9c179e"
            ],
            [
             0.4444444444444444,
             "#bd3786"
            ],
            [
             0.5555555555555556,
             "#d8576b"
            ],
            [
             0.6666666666666666,
             "#ed7953"
            ],
            [
             0.7777777777777778,
             "#fb9f3a"
            ],
            [
             0.8888888888888888,
             "#fdca26"
            ],
            [
             1,
             "#f0f921"
            ]
           ],
           "sequentialminus": [
            [
             0,
             "#0d0887"
            ],
            [
             0.1111111111111111,
             "#46039f"
            ],
            [
             0.2222222222222222,
             "#7201a8"
            ],
            [
             0.3333333333333333,
             "#9c179e"
            ],
            [
             0.4444444444444444,
             "#bd3786"
            ],
            [
             0.5555555555555556,
             "#d8576b"
            ],
            [
             0.6666666666666666,
             "#ed7953"
            ],
            [
             0.7777777777777778,
             "#fb9f3a"
            ],
            [
             0.8888888888888888,
             "#fdca26"
            ],
            [
             1,
             "#f0f921"
            ]
           ]
          },
          "colorway": [
           "#636efa",
           "#EF553B",
           "#00cc96",
           "#ab63fa",
           "#FFA15A",
           "#19d3f3",
           "#FF6692",
           "#B6E880",
           "#FF97FF",
           "#FECB52"
          ],
          "font": {
           "color": "#2a3f5f"
          },
          "geo": {
           "bgcolor": "white",
           "lakecolor": "white",
           "landcolor": "#E5ECF6",
           "showlakes": true,
           "showland": true,
           "subunitcolor": "white"
          },
          "hoverlabel": {
           "align": "left"
          },
          "hovermode": "closest",
          "mapbox": {
           "style": "light"
          },
          "paper_bgcolor": "white",
          "plot_bgcolor": "#E5ECF6",
          "polar": {
           "angularaxis": {
            "gridcolor": "white",
            "linecolor": "white",
            "ticks": ""
           },
           "bgcolor": "#E5ECF6",
           "radialaxis": {
            "gridcolor": "white",
            "linecolor": "white",
            "ticks": ""
           }
          },
          "scene": {
           "xaxis": {
            "backgroundcolor": "#E5ECF6",
            "gridcolor": "white",
            "gridwidth": 2,
            "linecolor": "white",
            "showbackground": true,
            "ticks": "",
            "zerolinecolor": "white"
           },
           "yaxis": {
            "backgroundcolor": "#E5ECF6",
            "gridcolor": "white",
            "gridwidth": 2,
            "linecolor": "white",
            "showbackground": true,
            "ticks": "",
            "zerolinecolor": "white"
           },
           "zaxis": {
            "backgroundcolor": "#E5ECF6",
            "gridcolor": "white",
            "gridwidth": 2,
            "linecolor": "white",
            "showbackground": true,
            "ticks": "",
            "zerolinecolor": "white"
           }
          },
          "shapedefaults": {
           "line": {
            "color": "#2a3f5f"
           }
          },
          "ternary": {
           "aaxis": {
            "gridcolor": "white",
            "linecolor": "white",
            "ticks": ""
           },
           "baxis": {
            "gridcolor": "white",
            "linecolor": "white",
            "ticks": ""
           },
           "bgcolor": "#E5ECF6",
           "caxis": {
            "gridcolor": "white",
            "linecolor": "white",
            "ticks": ""
           }
          },
          "title": {
           "x": 0.05
          },
          "xaxis": {
           "automargin": true,
           "gridcolor": "white",
           "linecolor": "white",
           "ticks": "",
           "title": {
            "standoff": 15
           },
           "zerolinecolor": "white",
           "zerolinewidth": 2
          },
          "yaxis": {
           "automargin": true,
           "gridcolor": "white",
           "linecolor": "white",
           "ticks": "",
           "title": {
            "standoff": 15
           },
           "zerolinecolor": "white",
           "zerolinewidth": 2
          }
         }
        },
        "title": {
         "text": "Accuracy and Training Time vs Number of SVD Components with Logarithmic and Exponential Fits"
        },
        "xaxis": {
         "title": {
          "text": "Number of SVD Components"
         }
        },
        "yaxis": {
         "range": [
          0,
          1
         ],
         "tickfont": {
          "color": "blue"
         },
         "title": {
          "font": {
           "color": "blue"
          },
          "text": "Accuracy"
         }
        },
        "yaxis2": {
         "anchor": "x",
         "overlaying": "y",
         "range": [
          0,
          100
         ],
         "side": "right",
         "tickfont": {
          "color": "red"
         },
         "title": {
          "font": {
           "color": "red"
          },
          "text": "Training Time (seconds)"
         }
        }
       }
      }
     },
     "metadata": {},
     "output_type": "display_data"
    }
   ],
   "source": [
    "# best fits for above graph to sate my own curiosity\n",
    "\n",
    "from scipy.optimize import curve_fit\n",
    "\n",
    "def acc_fit(x, a, b, c):\n",
    "    return a * x / (b + x) + c\n",
    "\n",
    "def power_law_fit(x, a, b, c):\n",
    "    return a * x ** b + c\n",
    "\n",
    "def fit_curves_advanced(results_df):\n",
    "    n_components = results_df[\"n_components\"]\n",
    "    \n",
    "    # Exclude 0 values to avoid errors for logarithmic fit\n",
    "    n_components_non_zero = n_components[n_components > 0]\n",
    "    accuracy_non_zero = results_df[\"accuracy\"].iloc[n_components_non_zero.index]\n",
    "    time_non_zero = results_df[\"training_time\"].iloc[n_components_non_zero.index]\n",
    "    \n",
    "    acc_params, _ = curve_fit(acc_fit, n_components_non_zero, accuracy_non_zero)\n",
    "    a, b, c = acc_params\n",
    "    print(f'acc ~ {a}*x/({b} + x) + {c}')\n",
    "\n",
    "    initial_guess = [1, 0.01, 1]\n",
    "    exp_params, _ = curve_fit(power_law_fit, n_components_non_zero, time_non_zero, p0=initial_guess, bounds=(0, [1000, 1, 1000]))\n",
    "    a, b, c = exp_params\n",
    "    print(f'time ~ {a}*x**{b} + {c}')\n",
    "\n",
    "    # Generate fitted values\n",
    "    n_components_range = np.linspace(min(n_components), max(n_components), 100)\n",
    "    \n",
    "    fitted_accuracy_log = acc_fit(n_components_range, *acc_params)\n",
    "    fitted_time_exp = power_law_fit(n_components_range, *exp_params)\n",
    "\n",
    "    # Plot the data with fitted curves\n",
    "    fig = go.Figure()\n",
    "\n",
    "    # Plot original accuracy on the left y-axis (solid line)\n",
    "    fig.add_trace(go.Scatter(\n",
    "        x=n_components, \n",
    "        y=results_df[\"accuracy\"],\n",
    "        mode=\"lines+markers\",\n",
    "        name=\"Accuracy\",\n",
    "        line=dict(color='blue', dash='solid'),\n",
    "        yaxis=\"y1\"\n",
    "    ))\n",
    "\n",
    "    # Plot logarithmic fit for accuracy\n",
    "    fig.add_trace(go.Scatter(\n",
    "        x=n_components_range, \n",
    "        y=fitted_accuracy_log,\n",
    "        mode=\"lines\",\n",
    "        name=\"Accuracy 1/1+x Fit\",\n",
    "        line=dict(color='blue', dash='dash'),\n",
    "        yaxis=\"y1\"\n",
    "    ))\n",
    "\n",
    "    # Plot original training time on the right y-axis (dotted line)\n",
    "    fig.add_trace(go.Scatter(\n",
    "        x=n_components, \n",
    "        y=results_df[\"training_time\"],\n",
    "        mode=\"lines+markers\",\n",
    "        name=\"Training Time (seconds)\",\n",
    "        line=dict(color='red', dash='dot'),\n",
    "        yaxis=\"y2\"\n",
    "    ))\n",
    "\n",
    "    # Plot exponential fit for training time\n",
    "    fig.add_trace(go.Scatter(\n",
    "        x=n_components_range, \n",
    "        y=fitted_time_exp,\n",
    "        mode=\"lines\",\n",
    "        name=\"Training Time Exp Fit\",\n",
    "        line=dict(color='green', dash='dot'),\n",
    "        yaxis=\"y2\"\n",
    "    ))\n",
    "\n",
    "    # Update layout for dual y-axis with custom ranges\n",
    "    fig.update_layout(\n",
    "        title=\"Accuracy and Training Time vs Number of SVD Components with Logarithmic and Exponential Fits\",\n",
    "        xaxis_title=\"Number of SVD Components\",\n",
    "        \n",
    "        yaxis=dict(\n",
    "            title=\"Accuracy\",\n",
    "            titlefont=dict(color=\"blue\"),\n",
    "            tickfont=dict(color=\"blue\"),\n",
    "            range=[0, 1]\n",
    "        ),\n",
    "        \n",
    "        yaxis2=dict(\n",
    "            title=\"Training Time (seconds)\",\n",
    "            titlefont=dict(color=\"red\"),\n",
    "            tickfont=dict(color=\"red\"),\n",
    "            anchor=\"x\",\n",
    "            overlaying=\"y\",\n",
    "            side=\"right\",\n",
    "            range=[0, 100]\n",
    "        ),\n",
    "        \n",
    "        legend=dict(\n",
    "            orientation=\"h\",\n",
    "            yanchor=\"bottom\",\n",
    "            y=1.02,\n",
    "            xanchor=\"right\",\n",
    "            x=1\n",
    "        )\n",
    "    )\n",
    "\n",
    "    fig.show()\n",
    "\n",
    "# Call the advanced curve fitting function with the DataFrame results_df\n",
    "fit_curves_advanced(results_df)\n"
   ]
  },
  {
   "cell_type": "code",
   "execution_count": 58,
   "id": "e051ff71",
   "metadata": {},
   "outputs": [
    {
     "data": {
      "text/html": [
       "<div>\n",
       "<style scoped>\n",
       "    .dataframe tbody tr th:only-of-type {\n",
       "        vertical-align: middle;\n",
       "    }\n",
       "\n",
       "    .dataframe tbody tr th {\n",
       "        vertical-align: top;\n",
       "    }\n",
       "\n",
       "    .dataframe thead th {\n",
       "        text-align: right;\n",
       "    }\n",
       "</style>\n",
       "<table border=\"1\" class=\"dataframe\">\n",
       "  <thead>\n",
       "    <tr style=\"text-align: right;\">\n",
       "      <th></th>\n",
       "      <th>n_components</th>\n",
       "      <th>accuracy</th>\n",
       "      <th>training_time</th>\n",
       "    </tr>\n",
       "  </thead>\n",
       "  <tbody>\n",
       "    <tr>\n",
       "      <th>0</th>\n",
       "      <td>1</td>\n",
       "      <td>0.306857</td>\n",
       "      <td>0.295077</td>\n",
       "    </tr>\n",
       "    <tr>\n",
       "      <th>1</th>\n",
       "      <td>2</td>\n",
       "      <td>0.448357</td>\n",
       "      <td>0.436165</td>\n",
       "    </tr>\n",
       "    <tr>\n",
       "      <th>2</th>\n",
       "      <td>3</td>\n",
       "      <td>0.471786</td>\n",
       "      <td>0.356321</td>\n",
       "    </tr>\n",
       "    <tr>\n",
       "      <th>3</th>\n",
       "      <td>4</td>\n",
       "      <td>0.576500</td>\n",
       "      <td>0.411016</td>\n",
       "    </tr>\n",
       "    <tr>\n",
       "      <th>4</th>\n",
       "      <td>5</td>\n",
       "      <td>0.679643</td>\n",
       "      <td>0.444396</td>\n",
       "    </tr>\n",
       "    <tr>\n",
       "      <th>5</th>\n",
       "      <td>6</td>\n",
       "      <td>0.736286</td>\n",
       "      <td>0.462523</td>\n",
       "    </tr>\n",
       "    <tr>\n",
       "      <th>6</th>\n",
       "      <td>7</td>\n",
       "      <td>0.761857</td>\n",
       "      <td>0.454060</td>\n",
       "    </tr>\n",
       "    <tr>\n",
       "      <th>7</th>\n",
       "      <td>8</td>\n",
       "      <td>0.787071</td>\n",
       "      <td>0.509744</td>\n",
       "    </tr>\n",
       "    <tr>\n",
       "      <th>8</th>\n",
       "      <td>9</td>\n",
       "      <td>0.789286</td>\n",
       "      <td>0.663166</td>\n",
       "    </tr>\n",
       "    <tr>\n",
       "      <th>9</th>\n",
       "      <td>10</td>\n",
       "      <td>0.803500</td>\n",
       "      <td>0.738182</td>\n",
       "    </tr>\n",
       "    <tr>\n",
       "      <th>10</th>\n",
       "      <td>12</td>\n",
       "      <td>0.826714</td>\n",
       "      <td>0.789084</td>\n",
       "    </tr>\n",
       "    <tr>\n",
       "      <th>11</th>\n",
       "      <td>14</td>\n",
       "      <td>0.839786</td>\n",
       "      <td>1.378411</td>\n",
       "    </tr>\n",
       "    <tr>\n",
       "      <th>12</th>\n",
       "      <td>17</td>\n",
       "      <td>0.861714</td>\n",
       "      <td>1.609638</td>\n",
       "    </tr>\n",
       "    <tr>\n",
       "      <th>13</th>\n",
       "      <td>19</td>\n",
       "      <td>0.873786</td>\n",
       "      <td>1.690372</td>\n",
       "    </tr>\n",
       "    <tr>\n",
       "      <th>14</th>\n",
       "      <td>23</td>\n",
       "      <td>0.885714</td>\n",
       "      <td>2.476373</td>\n",
       "    </tr>\n",
       "    <tr>\n",
       "      <th>15</th>\n",
       "      <td>27</td>\n",
       "      <td>0.889000</td>\n",
       "      <td>3.331303</td>\n",
       "    </tr>\n",
       "    <tr>\n",
       "      <th>16</th>\n",
       "      <td>32</td>\n",
       "      <td>0.897214</td>\n",
       "      <td>3.938132</td>\n",
       "    </tr>\n",
       "    <tr>\n",
       "      <th>17</th>\n",
       "      <td>39</td>\n",
       "      <td>0.901286</td>\n",
       "      <td>5.487883</td>\n",
       "    </tr>\n",
       "    <tr>\n",
       "      <th>18</th>\n",
       "      <td>46</td>\n",
       "      <td>0.906214</td>\n",
       "      <td>6.653816</td>\n",
       "    </tr>\n",
       "    <tr>\n",
       "      <th>19</th>\n",
       "      <td>55</td>\n",
       "      <td>0.911357</td>\n",
       "      <td>9.616442</td>\n",
       "    </tr>\n",
       "    <tr>\n",
       "      <th>20</th>\n",
       "      <td>67</td>\n",
       "      <td>0.912929</td>\n",
       "      <td>11.016707</td>\n",
       "    </tr>\n",
       "    <tr>\n",
       "      <th>21</th>\n",
       "      <td>81</td>\n",
       "      <td>0.915786</td>\n",
       "      <td>18.197224</td>\n",
       "    </tr>\n",
       "    <tr>\n",
       "      <th>22</th>\n",
       "      <td>98</td>\n",
       "      <td>0.917571</td>\n",
       "      <td>25.977342</td>\n",
       "    </tr>\n",
       "    <tr>\n",
       "      <th>23</th>\n",
       "      <td>119</td>\n",
       "      <td>0.918714</td>\n",
       "      <td>36.979312</td>\n",
       "    </tr>\n",
       "    <tr>\n",
       "      <th>24</th>\n",
       "      <td>145</td>\n",
       "      <td>0.919929</td>\n",
       "      <td>41.091435</td>\n",
       "    </tr>\n",
       "    <tr>\n",
       "      <th>25</th>\n",
       "      <td>177</td>\n",
       "      <td>0.920929</td>\n",
       "      <td>53.882709</td>\n",
       "    </tr>\n",
       "    <tr>\n",
       "      <th>26</th>\n",
       "      <td>217</td>\n",
       "      <td>0.921214</td>\n",
       "      <td>67.853903</td>\n",
       "    </tr>\n",
       "  </tbody>\n",
       "</table>\n",
       "</div>"
      ],
      "text/plain": [
       "    n_components  accuracy  training_time\n",
       "0              1  0.306857       0.295077\n",
       "1              2  0.448357       0.436165\n",
       "2              3  0.471786       0.356321\n",
       "3              4  0.576500       0.411016\n",
       "4              5  0.679643       0.444396\n",
       "5              6  0.736286       0.462523\n",
       "6              7  0.761857       0.454060\n",
       "7              8  0.787071       0.509744\n",
       "8              9  0.789286       0.663166\n",
       "9             10  0.803500       0.738182\n",
       "10            12  0.826714       0.789084\n",
       "11            14  0.839786       1.378411\n",
       "12            17  0.861714       1.609638\n",
       "13            19  0.873786       1.690372\n",
       "14            23  0.885714       2.476373\n",
       "15            27  0.889000       3.331303\n",
       "16            32  0.897214       3.938132\n",
       "17            39  0.901286       5.487883\n",
       "18            46  0.906214       6.653816\n",
       "19            55  0.911357       9.616442\n",
       "20            67  0.912929      11.016707\n",
       "21            81  0.915786      18.197224\n",
       "22            98  0.917571      25.977342\n",
       "23           119  0.918714      36.979312\n",
       "24           145  0.919929      41.091435\n",
       "25           177  0.920929      53.882709\n",
       "26           217  0.921214      67.853903"
      ]
     },
     "execution_count": 58,
     "metadata": {},
     "output_type": "execute_result"
    }
   ],
   "source": [
    "results_df"
   ]
  }
 ],
 "metadata": {
  "kernelspec": {
   "display_name": "Python 3",
   "language": "python",
   "name": "python3"
  },
  "language_info": {
   "codemirror_mode": {
    "name": "ipython",
    "version": 3
   },
   "file_extension": ".py",
   "mimetype": "text/x-python",
   "name": "python",
   "nbconvert_exporter": "python",
   "pygments_lexer": "ipython3",
   "version": "3.12.4"
  }
 },
 "nbformat": 4,
 "nbformat_minor": 5
}
